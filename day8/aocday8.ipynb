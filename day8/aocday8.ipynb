{
 "cells": [
  {
   "cell_type": "code",
   "execution_count": 1,
   "id": "5e0221be-aeee-4146-9f6f-340e25c145f0",
   "metadata": {
    "tags": []
   },
   "outputs": [
    {
     "name": "stdout",
     "output_type": "stream",
     "text": [
      "  % Total    % Received % Xferd  Average Speed   Time    Time     Time  Current\n",
      "                                 Dload  Upload   Total   Spent    Left  Speed\n",
      "100 12423  100 12423    0     0  38973      0 --:--:-- --:--:-- --:--:-- 39945\n"
     ]
    }
   ],
   "source": [
    "!curl https://adventofcode.com/2023/day/8/input --cookie \"session=53616c7465645f5f507d95ce089836d5163de30cc891243d9a1c0d0ba2960652b9ee386d6c28dbab2c0dcb4728b35d53a46dcb06031f8c14e96b3db775f7851a\" -o wasteland.txt"
   ]
  },
  {
   "cell_type": "code",
   "execution_count": 6,
   "id": "35c907e8-9821-4ae6-8ffd-55241c945d98",
   "metadata": {
    "tags": []
   },
   "outputs": [
    {
     "name": "stdout",
     "output_type": "stream",
     "text": [
      "16697\n"
     ]
    }
   ],
   "source": [
    "with open(\"wasteland.txt\", \"r\") as file:\n",
    "    instructions, directions = file.read().split(\"\\n\\n\")\n",
    "\n",
    "instructions = list(instructions)\n",
    "directions_dict = {}\n",
    "\n",
    "directions = directions.splitlines()\n",
    "for item in directions:\n",
    "    current_location, next_locations = item.split(' = ')\n",
    "    next_locations = tuple(next_locations.strip('()').split(', '))\n",
    "    directions_dict[current_location] = next_locations\n",
    "\n",
    "count = 0\n",
    "current_instruction_index = 0\n",
    "current_location = \"AAA\"\n",
    "while current_location != \"ZZZ\":\n",
    "    count += 1\n",
    "    current_instruction = instructions[current_instruction_index]\n",
    "    if current_instruction == 'L':\n",
    "        current_location = directions_dict[current_location][0]\n",
    "    else:\n",
    "        current_location = directions_dict[current_location][1]\n",
    "\n",
    "    if current_instruction_index == len(instructions) - 1:\n",
    "        current_instruction_index = 0\n",
    "    else:\n",
    "        current_instruction_index += 1\n",
    "\n",
    "print(count)"
   ]
  },
  {
   "cell_type": "code",
   "execution_count": 7,
   "id": "f24f5202-73bc-45fa-af4c-a3f7e44a6bc9",
   "metadata": {
    "tags": []
   },
   "outputs": [
    {
     "name": "stdout",
     "output_type": "stream",
     "text": [
      "10668805667831\n"
     ]
    }
   ],
   "source": [
    "import math\n",
    "\n",
    "\n",
    "def lcm(a, b):\n",
    "    return abs(a * b) // math.gcd(a, b)\n",
    "\n",
    "\n",
    "def lcm_of_array(numbers):\n",
    "    result = numbers[0]\n",
    "    for num in numbers[1:]:\n",
    "        result = lcm(result, num)\n",
    "    return result\n",
    "\n",
    "\n",
    "with open(\"wasteland.txt\", \"r\") as file:\n",
    "    instructions, directions = file.read().split(\"\\n\\n\")\n",
    "\n",
    "instructions = list(instructions)\n",
    "directions_dict = {}\n",
    "locations = []\n",
    "\n",
    "directions = directions.splitlines()\n",
    "for item in directions:\n",
    "    current_location, next_locations = item.split(' = ')\n",
    "    next_locations = tuple(next_locations.strip('()').split(', '))\n",
    "    directions_dict[current_location] = next_locations\n",
    "    if current_location.endswith('A'):\n",
    "        locations.append(current_location)\n",
    "\n",
    "count_array = []\n",
    "\n",
    "for i, current_location in enumerate(locations):\n",
    "    count = 0\n",
    "    current_instruction_index = 0\n",
    "    while not current_location.endswith('Z'):\n",
    "        count += 1\n",
    "        current_instruction = instructions[current_instruction_index]\n",
    "        if current_instruction == 'L':\n",
    "            current_location = directions_dict[current_location][0]\n",
    "        else:\n",
    "            current_location = directions_dict[current_location][1]\n",
    "\n",
    "        if current_instruction_index == len(instructions) - 1:\n",
    "            current_instruction_index = 0\n",
    "        else:\n",
    "            current_instruction_index += 1\n",
    "    count_array.append(count)\n",
    "\n",
    "ans = lcm_of_array(count_array)\n",
    "print(ans)"
   ]
  },
  {
   "cell_type": "code",
   "execution_count": null,
   "id": "37dd3ffb-a844-4fd2-addb-1419e67c303f",
   "metadata": {},
   "outputs": [],
   "source": []
  }
 ],
 "metadata": {
  "kernelspec": {
   "display_name": "Python 3 (ipykernel)",
   "language": "python",
   "name": "python3"
  },
  "language_info": {
   "codemirror_mode": {
    "name": "ipython",
    "version": 3
   },
   "file_extension": ".py",
   "mimetype": "text/x-python",
   "name": "python",
   "nbconvert_exporter": "python",
   "pygments_lexer": "ipython3",
   "version": "3.8.16"
  }
 },
 "nbformat": 4,
 "nbformat_minor": 5
}
