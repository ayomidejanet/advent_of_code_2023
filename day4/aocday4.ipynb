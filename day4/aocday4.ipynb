{
 "cells": [
  {
   "cell_type": "code",
   "execution_count": 2,
   "id": "1c29c045-b4de-44aa-a93b-aa2156ff0e42",
   "metadata": {
    "tags": []
   },
   "outputs": [
    {
     "name": "stdout",
     "output_type": "stream",
     "text": [
      "  % Total    % Received % Xferd  Average Speed   Time    Time     Time  Current\n",
      "                                 Dload  Upload   Total   Spent    Left  Speed\n",
      "100 22464  100 22464    0     0  74571      0 --:--:-- --:--:-- --:--:-- 75636\n"
     ]
    }
   ],
   "source": [
    "!curl https://adventofcode.com/2023/day/4/input --cookie \"session=53616c7465645f5f507d95ce089836d5163de30cc891243d9a1c0d0ba2960652b9ee386d6c28dbab2c0dcb4728b35d53a46dcb06031f8c14e96b3db775f7851a\" -o input.txt"
   ]
  },
  {
   "cell_type": "code",
   "execution_count": 17,
   "id": "97562a0d-8817-47d9-a0a9-48de413f6922",
   "metadata": {
    "tags": []
   },
   "outputs": [
    {
     "name": "stdout",
     "output_type": "stream",
     "text": [
      "The total points of the scratchcards are: 24298\n"
     ]
    }
   ],
   "source": [
    "# Read the input from the file\n",
    "with open('input.txt', 'r') as file:\n",
    "    data = file.readlines()\n",
    "\n",
    "# Initialize the total points\n",
    "total_points = 0\n",
    "\n",
    "# Iterate through each line of the input\n",
    "for line in data:\n",
    "    # Remove the \"Card\" prefix from the line\n",
    "    line = line.replace(\"Card \", \"\")\n",
    "    \n",
    "    # Split the line into winning numbers and numbers you have\n",
    "    winning_numbers, your_numbers = line.strip().split(' | ')\n",
    "    \n",
    "    # Extract the numbers by removing any additional characters or spaces\n",
    "    winning_numbers = list(map(int, winning_numbers.replace(':', '').split()))\n",
    "    your_numbers = list(map(int, your_numbers.replace(':', '').split()))\n",
    "\n",
    "    # Calculate the number of matches and the points for the current card\n",
    "    matches = len(set(winning_numbers).intersection(set(your_numbers)))\n",
    "    points = 2 ** (matches - 1) if matches > 0 else 0\n",
    "    \n",
    "    # Add the points to the total\n",
    "    total_points += points\n",
    "\n",
    "# Print the total points\n",
    "print(\"The total points of the scratchcards are:\", total_points)"
   ]
  },
  {
   "cell_type": "code",
   "execution_count": 18,
   "id": "dc50d441-0358-4c41-a9f1-caae6fba866c",
   "metadata": {
    "tags": []
   },
   "outputs": [
    {
     "name": "stdout",
     "output_type": "stream",
     "text": [
      "The total points for the scratchcards are: 3545\n"
     ]
    }
   ],
   "source": [
    "def calculate_points(cards):\n",
    "    total_points = 0\n",
    "\n",
    "    for card in cards:\n",
    "        card_numbers = card.split('|')\n",
    "        if len(card_numbers) != 2:\n",
    "            continue  # Skip cards with missing parts\n",
    "        \n",
    "        winning_numbers = set(card_numbers[0].split())\n",
    "        your_numbers = card_numbers[1].split()\n",
    "\n",
    "        points = 0\n",
    "        for num in your_numbers:\n",
    "            if num in winning_numbers:\n",
    "                points += 1\n",
    "                winning_numbers.remove(num)\n",
    "                total_points += points\n",
    "\n",
    "    return total_points\n",
    "\n",
    "\n",
    "filename = \"input.txt\"\n",
    "\n",
    "# Read the contents of the file\n",
    "with open(filename, 'r') as file:\n",
    "    card_string = file.read()\n",
    "\n",
    "# Split the card string into individual cards\n",
    "cards = card_string.split('\\n')\n",
    "\n",
    "total_points = calculate_points(cards)\n",
    "print(\"The total points for the scratchcards are:\", total_points)"
   ]
  },
  {
   "cell_type": "code",
   "execution_count": 20,
   "id": "fb8addc5-380a-439b-a83f-a4ec8f01f360",
   "metadata": {
    "tags": []
   },
   "outputs": [
    {
     "name": "stdout",
     "output_type": "stream",
     "text": [
      "The total points of the scratchcards are: 24298\n"
     ]
    }
   ],
   "source": [
    "# Read the input from the file\n",
    "with open('input.txt', 'r') as file:\n",
    "    data = file.readlines()\n",
    "\n",
    "# Initialize the total points\n",
    "total_points = 0\n",
    "\n",
    "# Iterate through each line of the input\n",
    "for line in data:\n",
    "    # Check if the line starts with \"Card\" and remove the prefix\n",
    "    if line.startswith(\"Card\"):\n",
    "        line = line.replace(\"Card \", \"\")\n",
    "\n",
    "        # Split the line into winning numbers and numbers you have\n",
    "        winning_numbers, your_numbers = line.strip().split(' | ')\n",
    "\n",
    "        # Extract the numbers by removing any additional characters or spaces\n",
    "        winning_numbers = set(map(int, winning_numbers.replace(':', '').split()))\n",
    "        your_numbers = list(map(int, your_numbers.split()))\n",
    "\n",
    "        # Calculate the number of matches and the points for the current card\n",
    "        matches = set(winning_numbers).intersection(set(your_numbers))\n",
    "        points = 2 ** (len(matches) - 1) if len(matches) > 0 else 0\n",
    "\n",
    "        # Add the points to the total\n",
    "        total_points += points\n",
    "\n",
    "# Print the total points\n",
    "print(\"The total points of the scratchcards are:\", total_points)\n"
   ]
  },
  {
   "cell_type": "code",
   "execution_count": null,
   "id": "ac7b24d4-fb10-4e77-928f-0a0e64522d6f",
   "metadata": {},
   "outputs": [],
   "source": [
    "lines = open(\"input.txt\").read().splitlines()\n",
    "scorecards = {i:1 for i in range(len(lines))}\n",
    "\n",
    "def check(line, p1=False):\n",
    "    win, have = line.split(\": \")[1].split(\" | \")\n",
    "    win, have = win.split(), have.split()\n",
    "    \n",
    "    s = 0\n",
    "    for h in have:\n",
    "        if h in win:\n",
    "            if p1: s = s+1 if s == 0 else s*2\n",
    "            else: s += 1\n",
    "        \n",
    "    return s\n",
    "\n",
    "p1= 0\n",
    "p2 = 0\n",
    "for i, line in enumerate(lines):\n",
    "    p1 += check(line, p1=True)\n",
    "    num = check(line)\n",
    "    for j in range(num):\n",
    "        scorecards[i+j+1] += scorecards[i]\n",
    "        \n",
    "p2 = sum(socre)"
   ]
  }
 ],
 "metadata": {
  "kernelspec": {
   "display_name": "Python 3 (ipykernel)",
   "language": "python",
   "name": "python3"
  },
  "language_info": {
   "codemirror_mode": {
    "name": "ipython",
    "version": 3
   },
   "file_extension": ".py",
   "mimetype": "text/x-python",
   "name": "python",
   "nbconvert_exporter": "python",
   "pygments_lexer": "ipython3",
   "version": "3.8.16"
  }
 },
 "nbformat": 4,
 "nbformat_minor": 5
}
