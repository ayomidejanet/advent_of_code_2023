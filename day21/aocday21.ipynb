{
 "cells": [
  {
   "cell_type": "code",
   "execution_count": 1,
   "id": "9bafc9c5-6952-4696-a8f6-e7f56a128798",
   "metadata": {
    "tags": []
   },
   "outputs": [
    {
     "name": "stdout",
     "output_type": "stream",
     "text": [
      "  % Total    % Received % Xferd  Average Speed   Time    Time     Time  Current\n",
      "                                 Dload  Upload   Total   Spent    Left  Speed\n",
      "100 17292  100 17292    0     0  48409      0 --:--:-- --:--:-- --:--:-- 49405\n"
     ]
    }
   ],
   "source": [
    "!curl https://adventofcode.com/2023/day/21/input --cookie \"session=5xx\" -o step.txt"
   ]
  },
  {
   "cell_type": "code",
   "execution_count": 2,
   "id": "53533b04-ea0b-45ce-b516-581ac39e5ded",
   "metadata": {
    "tags": []
   },
   "outputs": [
    {
     "name": "stdout",
     "output_type": "stream",
     "text": [
      "Part1Answer = 3617\n",
      "Part2Answer = 596857397104703\n"
     ]
    }
   ],
   "source": [
    "InputList = []\n",
    "with open(\"step.txt\", \"r\") as data:\n",
    "    for t in data:\n",
    "        Line = t.strip()\n",
    "        InputList.append(Line)\n",
    "\n",
    "OpenSet = set()\n",
    "RockSet = set()\n",
    "for y, i in enumerate(InputList):\n",
    "    for x, c in enumerate(i):\n",
    "        Loc = (x,y)\n",
    "        if c == \"#\":\n",
    "            RockSet.add(Loc)\n",
    "        elif c == \".\":\n",
    "            OpenSet.add(Loc)\n",
    "        elif c == \"S\":\n",
    "            OpenSet.add(Loc)\n",
    "            StartPoint = Loc\n",
    "\n",
    "\n",
    "Directions = [(0,1),(1,0),(0,-1),(-1,0)]\n",
    "\n",
    "def WalkGrid(StartPoint, Limit):\n",
    "    EvenSet = set()\n",
    "    OddSet = set()\n",
    "    QueueSet = set()\n",
    "    QueueSet.add(StartPoint)\n",
    "    Steps = 0\n",
    "    while True:\n",
    "        Steps += 1\n",
    "        Moved = False\n",
    "        if Steps%2 == 0:\n",
    "            OldSet = EvenSet\n",
    "        else:\n",
    "            OldSet = OddSet\n",
    "        NewQueueSet = set()\n",
    "        for x, y in QueueSet:\n",
    "            for DX,DY in Directions:\n",
    "                NX,NY = x+DX,y+DY\n",
    "                NewLoc = (NX,NY)\n",
    "                if NewLoc in RockSet or NewLoc in OldSet or NewLoc not in OpenSet:\n",
    "                    continue\n",
    "                NewQueueSet.add(NewLoc)\n",
    "                OldSet.add(NewLoc)\n",
    "                Moved = True\n",
    "        QueueSet = NewQueueSet.copy()\n",
    "        if (Limit != None and Steps == Limit) or not(Moved):\n",
    "            break\n",
    "    \n",
    "    if Limit == None:\n",
    "        return len(OddSet), len(EvenSet)\n",
    "    elif Limit%2 == 1:\n",
    "        return len(OddSet)\n",
    "    else:\n",
    "        return len(EvenSet)\n",
    "\n",
    "Part1Answer = WalkGrid(StartPoint, 64)\n",
    "\n",
    "\n",
    "Height = len(InputList)\n",
    "Width = len(InputList[0])\n",
    "StartX, StartY = StartPoint\n",
    "FullGridOdd, FullGridEven = WalkGrid(StartPoint, None)\n",
    "NorthStart = (StartX, Height-1)\n",
    "SouthStart = (StartX, 0)\n",
    "WestStart = (Width-1,StartY)\n",
    "EastStart = (0,StartY)\n",
    "NWStart = (Width-1,Height-1)\n",
    "NEStart = (0,Height-1)\n",
    "SWStart = (Width-1,0)\n",
    "SEStart = (0,0)\n",
    "#26501365\n",
    "#AssumptionMade, startpoint is in exact center of grid and the grid has veins dividing the grid into four by open points\n",
    "\n",
    "Radius = 26501365//Height\n",
    "DiagLimit1 = (26501365-StartX-StartY-2)%(Height+Width)\n",
    "DiagLimit2 = (26501365-StartX-StartY-Height-2)%(Height+Width)\n",
    "CardLimit = (26501365-StartX-1)%Height\n",
    "OddGrids = 1\n",
    "EvenGrids = 0\n",
    "for t in range(Radius):\n",
    "    Num = t-1\n",
    "    if Num%2==0:\n",
    "        EvenGrids += t*4\n",
    "    else:\n",
    "        OddGrids += t*4\n",
    "\n",
    "NorthGridNum = WalkGrid(NorthStart, CardLimit)\n",
    "SouthGridNum = WalkGrid(SouthStart, CardLimit)\n",
    "WestGridNum = WalkGrid(WestStart, CardLimit)\n",
    "EastGridNum = WalkGrid(EastStart, CardLimit)\n",
    "\n",
    "NWGrid1 = WalkGrid(NWStart,DiagLimit1)\n",
    "NEGrid1 = WalkGrid(NEStart,DiagLimit1)\n",
    "SWGrid1 = WalkGrid(SWStart,DiagLimit1)\n",
    "SEGrid1 = WalkGrid(SEStart,DiagLimit1)\n",
    "NWGrid2 = WalkGrid(NWStart,DiagLimit2)\n",
    "NEGrid2 = WalkGrid(NEStart,DiagLimit2)\n",
    "SWGrid2 = WalkGrid(SWStart,DiagLimit2)\n",
    "SEGrid2 = WalkGrid(SEStart,DiagLimit2)\n",
    "\n",
    "\n",
    "FullGridTotal = OddGrids*FullGridOdd + EvenGrids*FullGridEven\n",
    "DiagsTotal = (NWGrid1+NEGrid1+SEGrid1+SWGrid1)*(Radius-1) + (NWGrid2+NEGrid2+SEGrid2+SWGrid2)*Radius\n",
    "CardsTotal = NorthGridNum+SouthGridNum+EastGridNum+WestGridNum\n",
    "Part2Answer = FullGridTotal + DiagsTotal + CardsTotal\n",
    "\n",
    "print(f\"{Part1Answer = }\")\n",
    "print(f\"{Part2Answer = }\")"
   ]
  },
  {
   "cell_type": "code",
   "execution_count": null,
   "id": "5f7c12ce-21d3-4c35-9420-f5bfd9b45c71",
   "metadata": {},
   "outputs": [],
   "source": []
  }
 ],
 "metadata": {
  "kernelspec": {
   "display_name": "Python 3 (ipykernel)",
   "language": "python",
   "name": "python3"
  },
  "language_info": {
   "codemirror_mode": {
    "name": "ipython",
    "version": 3
   },
   "file_extension": ".py",
   "mimetype": "text/x-python",
   "name": "python",
   "nbconvert_exporter": "python",
   "pygments_lexer": "ipython3",
   "version": "3.8.16"
  }
 },
 "nbformat": 4,
 "nbformat_minor": 5
}
