{
 "cells": [
  {
   "cell_type": "code",
   "execution_count": 1,
   "id": "c952ca52-fc97-4529-af29-f34dba41d272",
   "metadata": {
    "tags": []
   },
   "outputs": [
    {
     "name": "stdout",
     "output_type": "stream",
     "text": [
      "  % Total    % Received % Xferd  Average Speed   Time    Time     Time  Current\n",
      "                                 Dload  Upload   Total   Spent    Left  Speed\n",
      "100 15809  100 15809    0     0  47417      0 --:--:-- --:--:-- --:--:-- 48493\n"
     ]
    }
   ],
   "source": [
    "!curl https://adventofcode.com/2023/day/13/input --cookie \"session=5xxx\" -o lava.txt"
   ]
  },
  {
   "cell_type": "code",
   "execution_count": 3,
   "id": "e29467d0-db50-47d5-bd42-cfb4d7a37c5a",
   "metadata": {
    "tags": []
   },
   "outputs": [
    {
     "name": "stdout",
     "output_type": "stream",
     "text": [
      "31956\n"
     ]
    }
   ],
   "source": [
    "def find_mirror_index(grid):\n",
    "    for i in range(1, len(grid)):\n",
    "        top_half = grid[:i][::-1]\n",
    "        bottom_half = grid[i:]\n",
    "\n",
    "        top_half = top_half[:len(bottom_half)]\n",
    "        bottom_half = bottom_half[:len(top_half)]\n",
    "\n",
    "        if top_half == bottom_half:\n",
    "            return i\n",
    "\n",
    "    return 0\n",
    "\n",
    "\n",
    "with open(\"lava.txt\", \"r\") as file:\n",
    "    blocks = file.read().split(\"\\n\\n\")\n",
    "\n",
    "ans = 0\n",
    "for block in blocks:\n",
    "    grid = block.splitlines()\n",
    "\n",
    "    row_index = find_mirror_index(grid)\n",
    "    ans += row_index * 100\n",
    "\n",
    "    transposed_grid = list(zip(*grid))\n",
    "    column_index = find_mirror_index(transposed_grid)\n",
    "    ans += column_index\n",
    "\n",
    "print(ans)"
   ]
  },
  {
   "cell_type": "code",
   "execution_count": 4,
   "id": "6e61c811-4ecb-4de4-8490-d082ffb96c69",
   "metadata": {
    "tags": []
   },
   "outputs": [
    {
     "name": "stdout",
     "output_type": "stream",
     "text": [
      "37617\n"
     ]
    }
   ],
   "source": [
    "def find_mirror_index(grid):\n",
    "    for i in range(1, len(grid)):\n",
    "        top_half = grid[:i][::-1]\n",
    "        bottom_half = grid[i:]\n",
    "\n",
    "        total_mismatches = 0\n",
    "        for top_row, bottom_row in zip(top_half, bottom_half):\n",
    "            for (top_char, bottom_char) in zip(top_row, bottom_row):\n",
    "                if top_char != bottom_char:\n",
    "                    total_mismatches += 1\n",
    "        if total_mismatches == 1:\n",
    "            return i\n",
    "\n",
    "    return 0\n",
    "\n",
    "\n",
    "with open(\"lava.txt\", \"r\") as file:\n",
    "    blocks = file.read().split(\"\\n\\n\")\n",
    "\n",
    "ans = 0\n",
    "for block in blocks:\n",
    "    grid = block.splitlines()\n",
    "\n",
    "    row_index = find_mirror_index(grid)\n",
    "    ans += row_index * 100\n",
    "\n",
    "    transposed_grid = list(zip(*grid))\n",
    "    column_index = find_mirror_index(transposed_grid)\n",
    "    ans += column_index\n",
    "\n",
    "print(ans)"
   ]
  },
  {
   "cell_type": "code",
   "execution_count": null,
   "id": "83ed05fc-cfc4-40ef-9c99-486514e26636",
   "metadata": {},
   "outputs": [],
   "source": []
  }
 ],
 "metadata": {
  "kernelspec": {
   "display_name": "Python 3 (ipykernel)",
   "language": "python",
   "name": "python3"
  },
  "language_info": {
   "codemirror_mode": {
    "name": "ipython",
    "version": 3
   },
   "file_extension": ".py",
   "mimetype": "text/x-python",
   "name": "python",
   "nbconvert_exporter": "python",
   "pygments_lexer": "ipython3",
   "version": "3.8.16"
  }
 },
 "nbformat": 4,
 "nbformat_minor": 5
}
