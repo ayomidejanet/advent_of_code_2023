{
 "cells": [
  {
   "cell_type": "code",
   "execution_count": 1,
   "id": "bcd66cba-7cd2-4fac-976e-93dd8b8f8fa4",
   "metadata": {
    "tags": []
   },
   "outputs": [
    {
     "name": "stdout",
     "output_type": "stream",
     "text": [
      "  % Total    % Received % Xferd  Average Speed   Time    Time     Time  Current\n",
      "                                 Dload  Upload   Total   Spent    Left  Speed\n",
      "100 23062  100 23062    0     0  63462      0 --:--:-- --:--:-- --:--:-- 64239\n"
     ]
    }
   ],
   "source": [
    "!curl https://adventofcode.com/2023/day/15/input --cookie \"session=53616c7465645f5f507d95ce089836d5163de30cc891243d9a1c0d0ba2960652b9ee386d6c28dbab2c0dcb4728b35d53a46dcb06031f8c14e96b3db775f7851a\" -o lens.txt"
   ]
  },
  {
   "cell_type": "code",
   "execution_count": 4,
   "id": "7844f33e-1e13-461d-be96-ff00b6d15ad1",
   "metadata": {
    "tags": []
   },
   "outputs": [],
   "source": [
    "with open(\"lens.txt\") as fh:\n",
    "    puzzle = fh.read()"
   ]
  },
  {
   "cell_type": "code",
   "execution_count": 5,
   "id": "aaee6230-81fc-4205-ab8d-bb8486fd6d65",
   "metadata": {
    "tags": []
   },
   "outputs": [],
   "source": [
    "testdata = \"rn=1,cm-,qp=3,cm=2,qp-,pc=4,ot=9,ab=5,pc-,pc=6,ot=7\""
   ]
  },
  {
   "cell_type": "code",
   "execution_count": 6,
   "id": "474d551b-9f92-48e0-8a09-ab1214e2d36a",
   "metadata": {
    "tags": []
   },
   "outputs": [],
   "source": [
    "def parse_input(data):\n",
    "    return data.strip().split(\",\")"
   ]
  },
  {
   "cell_type": "code",
   "execution_count": 7,
   "id": "ebb39986-c8fc-42db-a00a-19860b51248d",
   "metadata": {
    "tags": []
   },
   "outputs": [],
   "source": [
    "def hash_char(c, v=0):\n",
    "    v = v + ord(c)\n",
    "    v = v * 17\n",
    "    return v % 256\n",
    "\n",
    "\n",
    "def hash_str(s, v=0):\n",
    "    for c in s:\n",
    "        v = hash_char(c, v)\n",
    "    return v"
   ]
  },
  {
   "cell_type": "code",
   "execution_count": 8,
   "id": "f66bce2e-f3b5-4a96-acee-cf1d8061b928",
   "metadata": {
    "tags": []
   },
   "outputs": [
    {
     "data": {
      "text/plain": [
       "52"
      ]
     },
     "execution_count": 8,
     "metadata": {},
     "output_type": "execute_result"
    }
   ],
   "source": [
    "hash_str(\"HASH\")"
   ]
  },
  {
   "cell_type": "code",
   "execution_count": 9,
   "id": "7f048c47-21e6-46c0-9b94-9bf303e83150",
   "metadata": {
    "tags": []
   },
   "outputs": [
    {
     "name": "stdout",
     "output_type": "stream",
     "text": [
      "rn=1 30\n",
      "cm- 253\n",
      "qp=3 97\n",
      "cm=2 47\n",
      "qp- 14\n",
      "pc=4 180\n",
      "ot=9 9\n",
      "ab=5 197\n",
      "pc- 48\n",
      "pc=6 214\n",
      "ot=7 231\n"
     ]
    }
   ],
   "source": [
    "for s in parse_input(testdata):\n",
    "    print(s, hash_str(s))"
   ]
  },
  {
   "cell_type": "code",
   "execution_count": 10,
   "id": "f50e2541-835c-462d-98c5-0aa2588f746c",
   "metadata": {
    "tags": []
   },
   "outputs": [],
   "source": [
    "def hash_total(data):\n",
    "    return sum(hash_str(s) for s in parse_input(data))"
   ]
  },
  {
   "cell_type": "code",
   "execution_count": 11,
   "id": "846c97d0-cdbe-4e36-8260-3decebf7c21d",
   "metadata": {
    "tags": []
   },
   "outputs": [
    {
     "data": {
      "text/plain": [
       "1320"
      ]
     },
     "execution_count": 11,
     "metadata": {},
     "output_type": "execute_result"
    }
   ],
   "source": [
    "hash_total(testdata)"
   ]
  },
  {
   "cell_type": "code",
   "execution_count": 12,
   "id": "64c12dd7-31e7-4746-a185-a466b1a99605",
   "metadata": {
    "tags": []
   },
   "outputs": [
    {
     "name": "stdout",
     "output_type": "stream",
     "text": [
      "CPU times: user 11 ms, sys: 1.41 ms, total: 12.4 ms\n",
      "Wall time: 12.4 ms\n"
     ]
    },
    {
     "data": {
      "text/plain": [
       "506437"
      ]
     },
     "execution_count": 12,
     "metadata": {},
     "output_type": "execute_result"
    }
   ],
   "source": [
    "%%time\n",
    "hash_total(puzzle)"
   ]
  },
  {
   "cell_type": "markdown",
   "id": "4d8c0d93-03bc-472f-bd43-97ada852a9a7",
   "metadata": {},
   "source": [
    "**PART TWO**"
   ]
  },
  {
   "cell_type": "code",
   "execution_count": 13,
   "id": "a1c10a98-485c-429a-82e8-6146849acf5b",
   "metadata": {
    "tags": []
   },
   "outputs": [],
   "source": [
    "def split_instruction(s):\n",
    "    if \"=\" in s:\n",
    "        opr = \"=\"\n",
    "        label, flstr = s.split(\"=\")\n",
    "        fl = int(flstr)\n",
    "    elif \"-\" in s:\n",
    "        opr = \"-\"\n",
    "        label = s.split(\"-\")[0]\n",
    "        fl = None\n",
    "    else:\n",
    "        raise ValueError(\"Can't happen\")\n",
    "    return opr, label, fl\n",
    "    "
   ]
  },
  {
   "cell_type": "code",
   "execution_count": 14,
   "id": "ae6f7460-f186-438c-9f44-fcd55c6db351",
   "metadata": {
    "tags": []
   },
   "outputs": [],
   "source": [
    "def handle_instruction(s, boxes):\n",
    "    opr, label, fl = split_instruction(s)\n",
    "    box_index = hash_str(label)\n",
    "    if opr == \"-\":\n",
    "        try:\n",
    "            boxes[box_index].pop(label)\n",
    "        except KeyError:\n",
    "            pass\n",
    "    else:\n",
    "        boxes[box_index][label] = fl\n"
   ]
  },
  {
   "cell_type": "code",
   "execution_count": 15,
   "id": "b6e1284a-a024-471a-8306-cdb478cceb05",
   "metadata": {
    "tags": []
   },
   "outputs": [],
   "source": [
    "def initialize(data):\n",
    "    boxes = [{} for _ in range(256)]\n",
    "    for s in parse_input(data):\n",
    "        handle_instruction(s, boxes)\n",
    "    return boxes"
   ]
  },
  {
   "cell_type": "code",
   "execution_count": 16,
   "id": "2bc9026e-78e2-4832-bee1-a46b3f886f01",
   "metadata": {
    "tags": []
   },
   "outputs": [],
   "source": [
    "def total_focusing_power(data):\n",
    "    boxes = initialize(data)\n",
    "    total = 0\n",
    "    for boxnum, box in enumerate(boxes, 1):\n",
    "        for slot, fl in enumerate(box.values(), 1):\n",
    "            total += boxnum * slot * fl\n",
    "    return total"
   ]
  },
  {
   "cell_type": "code",
   "execution_count": 17,
   "id": "babbe77d-c335-443b-991c-f8ebce47ff23",
   "metadata": {
    "tags": []
   },
   "outputs": [
    {
     "data": {
      "text/plain": [
       "145"
      ]
     },
     "execution_count": 17,
     "metadata": {},
     "output_type": "execute_result"
    }
   ],
   "source": [
    "total_focusing_power(testdata)"
   ]
  },
  {
   "cell_type": "code",
   "execution_count": 18,
   "id": "5d2b92a1-d119-4602-a333-1ba45c00260f",
   "metadata": {
    "tags": []
   },
   "outputs": [
    {
     "name": "stdout",
     "output_type": "stream",
     "text": [
      "CPU times: user 10.3 ms, sys: 452 µs, total: 10.8 ms\n",
      "Wall time: 10.7 ms\n"
     ]
    },
    {
     "data": {
      "text/plain": [
       "288521"
      ]
     },
     "execution_count": 18,
     "metadata": {},
     "output_type": "execute_result"
    }
   ],
   "source": [
    "%%time\n",
    "total_focusing_power(puzzle)"
   ]
  },
  {
   "cell_type": "code",
   "execution_count": null,
   "id": "693f2f39-c2ac-4891-b420-f811021e5b0d",
   "metadata": {},
   "outputs": [],
   "source": []
  }
 ],
 "metadata": {
  "kernelspec": {
   "display_name": "Python 3 (ipykernel)",
   "language": "python",
   "name": "python3"
  },
  "language_info": {
   "codemirror_mode": {
    "name": "ipython",
    "version": 3
   },
   "file_extension": ".py",
   "mimetype": "text/x-python",
   "name": "python",
   "nbconvert_exporter": "python",
   "pygments_lexer": "ipython3",
   "version": "3.8.16"
  }
 },
 "nbformat": 4,
 "nbformat_minor": 5
}
