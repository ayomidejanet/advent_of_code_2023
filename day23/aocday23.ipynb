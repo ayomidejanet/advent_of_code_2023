{
 "cells": [
  {
   "cell_type": "code",
   "execution_count": 1,
   "id": "4c6167c6-3a1a-41f8-8993-054cc610a833",
   "metadata": {
    "tags": []
   },
   "outputs": [
    {
     "name": "stdout",
     "output_type": "stream",
     "text": [
      "  % Total    % Received % Xferd  Average Speed   Time    Time     Time  Current\n",
      "                                 Dload  Upload   Total   Spent    Left  Speed\n",
      "100 20022  100 20022    0     0  57611      0 --:--:-- --:--:-- --:--:-- 58373\n"
     ]
    }
   ],
   "source": [
    "!curl https://adventofcode.com/2023/day/23/input --cookie \"session=5xx\" -o walk.txt"
   ]
  },
  {
   "cell_type": "code",
   "execution_count": 9,
   "id": "03d20d08-08eb-4dda-a44b-7ab704470ac2",
   "metadata": {
    "tags": []
   },
   "outputs": [
    {
     "name": "stdout",
     "output_type": "stream",
     "text": [
      "2222\n",
      "6590\n"
     ]
    }
   ],
   "source": [
    "import networkx as nx\n",
    "from networkx.classes.function import path_weight\n",
    "\n",
    "with open(\"walk.txt\") as f:\n",
    "    ls = f.read().strip().split()\n",
    "\n",
    "N, M = len(ls), len(ls[0])\n",
    "s, t = (0, 1), (N - 1, M - 2)\n",
    "\n",
    "prev = {\">\": (0, -1), \"<\": (0, 1), \"^\": (1, 0), \"v\": (-1, 0)}\n",
    "G1 = nx.grid_2d_graph(N, M, create_using=nx.DiGraph)\n",
    "G2 = nx.grid_2d_graph(N, M)\n",
    "for i, l in enumerate(ls):\n",
    "    for j, x in enumerate(l):\n",
    "        p = (i, j)\n",
    "        if x == \"#\":\n",
    "            G1.remove_node(p)\n",
    "            G2.remove_node(p)\n",
    "        elif dp := prev.get(x):\n",
    "            di, dj = dp\n",
    "            G1.remove_edge(p, (i + di, j + dj))\n",
    "\n",
    "# Part 1\n",
    "print(max(map(len, nx.all_simple_edge_paths(G1, s, t))))\n",
    "\n",
    "# Part 2\n",
    "# We contract all nodes with exactly two neighbours, keeping track of the\n",
    "# distance along the way\n",
    "us = [u for u in G2.nodes if len(G2.edges(u)) == 2]\n",
    "\n",
    "for u in us:\n",
    "    v1, v2 = list(G2.neighbors(u))\n",
    "    new_weight = sum(G2.edges[u, v].get(\"d\", 1) for v in (v1, v2))\n",
    "    G2.add_edge(v1, v2, d=new_weight)\n",
    "    G2.remove_node(u)\n",
    "\n",
    "print(max(path_weight(G2, path, \"d\") for path in nx.all_simple_paths(G2, s, t)))"
   ]
  }
 ],
 "metadata": {
  "kernelspec": {
   "display_name": "Python 3 (ipykernel)",
   "language": "python",
   "name": "python3"
  },
  "language_info": {
   "codemirror_mode": {
    "name": "ipython",
    "version": 3
   },
   "file_extension": ".py",
   "mimetype": "text/x-python",
   "name": "python",
   "nbconvert_exporter": "python",
   "pygments_lexer": "ipython3",
   "version": "3.8.16"
  }
 },
 "nbformat": 4,
 "nbformat_minor": 5
}
