{
 "cells": [
  {
   "cell_type": "code",
   "execution_count": 25,
   "id": "dbc07d79-cd92-4fd9-89a1-6ab6c1545ed6",
   "metadata": {
    "tags": []
   },
   "outputs": [
    {
     "name": "stdout",
     "output_type": "stream",
     "text": [
      "  % Total    % Received % Xferd  Average Speed   Time    Time     Time  Current\n",
      "                                 Dload  Upload   Total   Spent    Left  Speed\n",
      "100 22043  100 22043    0     0  70774      0 --:--:-- --:--:-- --:--:-- 71801\n"
     ]
    }
   ],
   "source": [
    "!curl https://adventofcode.com/2023/day/1/input --cookie \"session=53616c7465645f5f507d95ce089836d5163de30cc891243d9a1c0d0ba2960652b9ee386d6c28dbab2c0dcb4728b35d53a46dcb06031f8c14e96b3db775f7851a\" -o data.txt"
   ]
  },
  {
   "cell_type": "code",
   "execution_count": 7,
   "id": "2f6a3289-9c40-479d-98c0-5970a6270f41",
   "metadata": {
    "tags": []
   },
   "outputs": [],
   "source": [
    "import pandas as pd"
   ]
  },
  {
   "cell_type": "code",
   "execution_count": 10,
   "id": "578c5089-9d9a-4a52-a75b-725ba9434ca4",
   "metadata": {
    "tags": []
   },
   "outputs": [],
   "source": [
    "df = pd.read_csv('data.txt', header=None)"
   ]
  },
  {
   "cell_type": "code",
   "execution_count": 43,
   "id": "466653b2-05a8-49ed-a912-54c0559d6a3d",
   "metadata": {
    "tags": []
   },
   "outputs": [
    {
     "name": "stdout",
     "output_type": "stream",
     "text": [
      "The sum of all calibration values is: 54573\n"
     ]
    }
   ],
   "source": [
    "def calculate_calibration_sum(file_name):\n",
    "    calibration_sum = 0\n",
    "\n",
    "    with open(file_name, 'r') as file:\n",
    "        for line in file:\n",
    "            line = line.strip()\n",
    "            if line:\n",
    "                digits = [char for char in line if char.isdigit()]\n",
    "                if digits:\n",
    "                    first_digit = int(digits[0])\n",
    "                    last_digit = int(digits[-1])\n",
    "                    calibration_sum += (10 * first_digit) + last_digit\n",
    "\n",
    "    return calibration_sum\n",
    "\n",
    "total_sum = calculate_calibration_sum(\"data.txt\")\n",
    "print(f\"The sum of all calibration values is: {total_sum}\")"
   ]
  },
  {
   "cell_type": "code",
   "execution_count": 46,
   "id": "24f309bb-2a8e-4682-bc08-2d75d8478829",
   "metadata": {
    "tags": []
   },
   "outputs": [
    {
     "name": "stdout",
     "output_type": "stream",
     "text": [
      "54591\n"
     ]
    }
   ],
   "source": [
    "with open('data.txt') as file:\n",
    "    lines = file.read().strip().split('\\n')\n",
    "\n",
    "total_value = 0\n",
    "\n",
    "spelled_numbers = ['one', 'two', 'three', 'four', 'five', 'six', 'seven', 'eight', 'nine']\n",
    "\n",
    "for line in lines:\n",
    "    for i in range(len(spelled_numbers)):\n",
    "        if spelled_numbers[i] in line:\n",
    "            line = line.replace(spelled_numbers[i], spelled_numbers[i][0]+str(i+1) + spelled_numbers[i][-1])\n",
    "    calibration_value = ''\n",
    "    for i in range(len(line)):\n",
    "        if line[i].isdigit():\n",
    "            calibration_value+= line[i]\n",
    "            break\n",
    "    for i in range(len(line)):\n",
    "        if line[len(line)-i-1].isdigit():\n",
    "            calibration_value += line[len(line)-i-1]\n",
    "            break\n",
    "    total_value += int(calibration_value)\n",
    "print(total_value)"
   ]
  }
 ],
 "metadata": {
  "kernelspec": {
   "display_name": "Python 3 (ipykernel)",
   "language": "python",
   "name": "python3"
  },
  "language_info": {
   "codemirror_mode": {
    "name": "ipython",
    "version": 3
   },
   "file_extension": ".py",
   "mimetype": "text/x-python",
   "name": "python",
   "nbconvert_exporter": "python",
   "pygments_lexer": "ipython3",
   "version": "3.8.16"
  }
 },
 "nbformat": 4,
 "nbformat_minor": 5
}
