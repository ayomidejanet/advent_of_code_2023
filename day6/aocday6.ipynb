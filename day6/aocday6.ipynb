{
 "cells": [
  {
   "cell_type": "code",
   "execution_count": 1,
   "id": "e988919f-ef20-4ebd-a159-e8ad7f007001",
   "metadata": {
    "tags": []
   },
   "outputs": [
    {
     "name": "stdout",
     "output_type": "stream",
     "text": [
      "  % Total    % Received % Xferd  Average Speed   Time    Time     Time  Current\n",
      "                                 Dload  Upload   Total   Spent    Left  Speed\n",
      "100    74  100    74    0     0    257      0 --:--:-- --:--:-- --:--:--   261\n"
     ]
    }
   ],
   "source": [
    "!curl https://adventofcode.com/2023/day/6/input --cookie \"session=53616c7465645f5f507d95ce089836d5163de30cc891243d9a1c0d0ba2960652b9ee386d6c28dbab2c0dcb4728b35d53a46dcb06031f8c14e96b3db775f7851a\" -o desert.txt"
   ]
  },
  {
   "cell_type": "code",
   "execution_count": 7,
   "id": "43462de7-46b7-4d49-bde4-970303ca24f4",
   "metadata": {
    "tags": []
   },
   "outputs": [
    {
     "name": "stdout",
     "output_type": "stream",
     "text": [
      "Part1: 505494\n",
      "Part2: 23632299\n"
     ]
    }
   ],
   "source": [
    "f = open(\"desert.txt\").read().splitlines()\n",
    "\n",
    "# Part 1\n",
    "def get_part_one():\n",
    "  times = [int(numbs) for numbs in f[0].split()[1::]]\n",
    "  distances = [int(numbs) for numbs in f[1].split()[1::]]\n",
    "\n",
    "  sum = 1\n",
    "  for i in range(len(times)):\n",
    "    time = times[i]\n",
    "    dist = distances[i]\n",
    "    validMethod = 0\n",
    "    for pushTime in range(time):\n",
    "      if pushTime*(time-pushTime) > dist:\n",
    "        validMethod += 1\n",
    "    sum *= validMethod\n",
    "  return sum\n",
    "\n",
    "#Part 2\n",
    "def get_part_two():\n",
    "  time = int(''.join(f[0].split()[1::]))\n",
    "  distance =  int(''.join(f[1].split()[1::]))\n",
    "\n",
    "  loverTime=0\n",
    "  upperTime = 0\n",
    "  currTime = 0\n",
    "  while(True):\n",
    "    currTime += 1\n",
    "    if(currTime*(time-currTime) > distance):\n",
    "      loverTime = currTime\n",
    "      break\n",
    "  currTime = time\n",
    "  while(True):\n",
    "    currTime -= 1\n",
    "    if(currTime*(time-currTime) > distance):\n",
    "      upperTime = currTime\n",
    "      break\n",
    "  return upperTime - loverTime +1\n",
    "\n",
    "# My times were:\n",
    "print(\"Part1:\", get_part_one()) # 01:02:53  12831\n",
    "print(\"Part2:\" ,get_part_two()) # 01:18:10  12959"
   ]
  },
  {
   "cell_type": "code",
   "execution_count": null,
   "id": "7fcab8ce-c9d0-4814-bf09-84cee9da9473",
   "metadata": {},
   "outputs": [],
   "source": []
  }
 ],
 "metadata": {
  "kernelspec": {
   "display_name": "Python 3 (ipykernel)",
   "language": "python",
   "name": "python3"
  },
  "language_info": {
   "codemirror_mode": {
    "name": "ipython",
    "version": 3
   },
   "file_extension": ".py",
   "mimetype": "text/x-python",
   "name": "python",
   "nbconvert_exporter": "python",
   "pygments_lexer": "ipython3",
   "version": "3.8.16"
  }
 },
 "nbformat": 4,
 "nbformat_minor": 5
}
