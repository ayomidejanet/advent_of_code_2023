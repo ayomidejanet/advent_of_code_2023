{
 "cells": [
  {
   "cell_type": "code",
   "execution_count": 1,
   "id": "5a1a1744-c838-47df-bb37-bb7faa210317",
   "metadata": {
    "tags": []
   },
   "outputs": [
    {
     "name": "stdout",
     "output_type": "stream",
     "text": [
      "  % Total    % Received % Xferd  Average Speed   Time    Time     Time  Current\n",
      "                                 Dload  Upload   Total   Spent    Left  Speed\n",
      "100 19740  100 19740    0     0  55495      0 --:--:-- --:--:-- --:--:-- 56079\n"
     ]
    }
   ],
   "source": [
    "!curl https://adventofcode.com/2023/day/3/input --cookie \"session=53616c7465645f5f507d95ce089836d5163de30cc891243d9a1c0d0ba2960652b9ee386d6c28dbab2c0dcb4728b35d53a46dcb06031f8c14e96b3db775f7851a\" -o gear.txt"
   ]
  },
  {
   "cell_type": "code",
   "execution_count": 2,
   "id": "780922d3-efcf-4010-a257-1820c3a718ea",
   "metadata": {
    "tags": []
   },
   "outputs": [
    {
     "name": "stdout",
     "output_type": "stream",
     "text": [
      "Part 1:  517021\n",
      "Part 2: 81296995\n"
     ]
    }
   ],
   "source": [
    "\n",
    "\n",
    "def get_neighbours(tuple, ncols, nrows):\n",
    "    cols = sorted([tuple[i][1] for i in range(1, len(tuple))])\n",
    "    neighbours = []\n",
    "    for i in range(tuple[0]-1 , tuple[0]+2):\n",
    "        for j in range(cols[0]-1, cols[-1] + 2):\n",
    "            if 0 <= i < nrows and 0 <= j < ncols and (i,j) not in tuple:\n",
    "                neighbours.append((i,j))\n",
    "    return neighbours\n",
    "\n",
    "with open('gear.txt') as file:\n",
    "    input_arr = [list(line) for line in file.read().strip().split('\\n')]\n",
    "\n",
    "nrows = len(input_arr)\n",
    "ncols = len(input_arr[0])\n",
    "\n",
    "symbols = []\n",
    "numbers = {}\n",
    "for i in range(nrows):\n",
    "    number = ''\n",
    "    indices = [i]\n",
    "    for j in range(ncols):\n",
    "        if not input_arr[i][j].isdigit() and input_arr[i][j] != '.':\n",
    "            symbols.append((i,j))\n",
    "            if number != '':\n",
    "                numbers[tuple(indices)] = number\n",
    "                number = ''\n",
    "                indices = [i]\n",
    "        elif input_arr[i][j].isdigit():\n",
    "            number += input_arr[i][j]\n",
    "            indices.append((i,j))\n",
    "        elif input_arr[i][j] == '.':\n",
    "            if number != '':\n",
    "                numbers[tuple(indices)] = number\n",
    "                number = ''\n",
    "                indices = [i]\n",
    "    if number != '':\n",
    "        numbers[tuple(indices)] = number\n",
    "\n",
    "\n",
    "part_sum = 0\n",
    "part_numbers = []\n",
    "for key, value in numbers.items():\n",
    "    neighbours = get_neighbours(key, ncols, nrows)\n",
    "    if len([indice for indice in neighbours if indice in symbols]) > 0:\n",
    "        part_sum += int(value)\n",
    "        part_numbers.append(int(value))\n",
    "\n",
    "print(\"Part 1: \", part_sum)\n",
    "\n",
    "\n",
    "gear_sum = 0\n",
    "visited = []\n",
    "for i in range(nrows):\n",
    "    for j in range(ncols):\n",
    "        if input_arr[i][j]== '*':\n",
    "            neighbours = get_neighbours([i, (i,j)], ncols, nrows)\n",
    "            neighbour_numbers = []\n",
    "            for neighbour in neighbours:\n",
    "                if neighbour not in visited and len(neighbour_numbers) < 2:\n",
    "                    for key, value in numbers.items():\n",
    "                        if neighbour in key:\n",
    "                            neighbour_numbers.append(int(value))\n",
    "                            visited += list(key[1:])\n",
    "            if  len(neighbour_numbers) == 2:\n",
    "                gear_sum += neighbour_numbers[0]*neighbour_numbers[1]\n",
    "\n",
    "print(\"Part 2:\", gear_sum)\n",
    "                            \n",
    "                            "
   ]
  },
  {
   "cell_type": "code",
   "execution_count": null,
   "id": "e1c11668-2f0d-44ef-a4ac-75dc49764e8d",
   "metadata": {},
   "outputs": [],
   "source": []
  }
 ],
 "metadata": {
  "kernelspec": {
   "display_name": "Python 3 (ipykernel)",
   "language": "python",
   "name": "python3"
  },
  "language_info": {
   "codemirror_mode": {
    "name": "ipython",
    "version": 3
   },
   "file_extension": ".py",
   "mimetype": "text/x-python",
   "name": "python",
   "nbconvert_exporter": "python",
   "pygments_lexer": "ipython3",
   "version": "3.8.16"
  }
 },
 "nbformat": 4,
 "nbformat_minor": 5
}
