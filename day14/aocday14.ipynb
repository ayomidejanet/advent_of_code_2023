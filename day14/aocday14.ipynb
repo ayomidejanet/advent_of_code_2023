{
 "cells": [
  {
   "cell_type": "code",
   "execution_count": null,
   "id": "6ab652e4-38ef-4103-85a6-b4116e4ef313",
   "metadata": {
    "tags": []
   },
   "outputs": [],
   "source": [
    "!curl https://adventofcode.com/2023/day/14/input --cookie \"session=5xx\" -o dish.txt"
   ]
  },
  {
   "cell_type": "code",
   "execution_count": null,
   "id": "4e4dd5e4-f836-4984-b4a8-ea028e6f2397",
   "metadata": {
    "tags": []
   },
   "outputs": [],
   "source": [
    "import os, sys\n",
    "import time\n",
    "\n",
    "def main():\n",
    "    with open(os.path.join(sys.path[0],\"dish.txt\"), \"r\", encoding=\"utf-8\") as f:\n",
    "        text = f.read().strip()\n",
    "        lines = text.split(\"\\n\")\n",
    "    \n",
    "    balls = []\n",
    "    stopper = [0] * len(lines[0])\n",
    "    rows = len(lines)\n",
    "    for i, line in enumerate(lines):\n",
    "        for j, c in enumerate(line):\n",
    "            if c == \"#\":\n",
    "                stopper[j] = i + 1\n",
    "            elif c == \"O\":\n",
    "                balls.append(rows - stopper[j])\n",
    "                stopper[j] += 1\n",
    "    print(sum(balls))\n",
    "    \n",
    "\n",
    "if __name__ == \"__main__\":\n",
    "    before = time.perf_counter()\n",
    "    main()\n",
    "    print(f\"Time: {time.perf_counter() - before:.6f}s\")"
   ]
  },
  {
   "cell_type": "code",
   "execution_count": 4,
   "id": "5c466dd5-f86a-45ed-bacf-1d3269ca4d30",
   "metadata": {
    "tags": []
   },
   "outputs": [
    {
     "name": "stdout",
     "output_type": "stream",
     "text": [
      "CH2:  87273\n"
     ]
    }
   ],
   "source": [
    "import sys\n",
    "import re\n",
    "import collections\n",
    "import math\n",
    "from itertools import combinations\n",
    "import copy\n",
    "import time\n",
    "\n",
    "# Change for part 1/2\n",
    "PART2 = True\n",
    "\n",
    "f = open(\"dish.txt\").read().strip()\n",
    "matrix = [[a for a in line]for line in f.split('\\n')]\n",
    "\n",
    "def find_new_slide_y_north(matrix, curr_y, x):\n",
    "    \n",
    "    for test_y in range(curr_y, 0-1, -1):\n",
    "        if matrix[test_y-1][x] == 'O' or matrix[test_y-1][x] == '#':\n",
    "            return test_y\n",
    "    \n",
    "    return 0\n",
    "\n",
    "def slide_matrix_north(matrix):\n",
    "\n",
    "    for y in range(1, len(matrix)):\n",
    "        for x in range(0, len(matrix[0])):\n",
    "            if (matrix[y][x] == 'O'):\n",
    "                new_y = find_new_slide_y_north(matrix, y, x)\n",
    "                if y != new_y:\n",
    "                    matrix[y][x] = '.'\n",
    "                    matrix[new_y][x] = 'O'\n",
    "                    \n",
    "    return matrix\n",
    "\n",
    "def rotate_matrix_CW(matrix):\n",
    "    \n",
    "    height = len(matrix)\n",
    "    length = len(matrix[0])\n",
    "    new_matrix = []\n",
    "    \n",
    "    for x in range(0,length):\n",
    "        line = [matrix[y][x] for y in range(0, height)]\n",
    "        line.reverse()\n",
    "        new_matrix.append(line)\n",
    "    \n",
    "    return new_matrix\n",
    "        \n",
    "# Challenge 1/2\n",
    "result = 0\n",
    "\n",
    "if not PART2:\n",
    "    matrix = slide_matrix_north(matrix)\n",
    "\n",
    "if PART2:\n",
    "    old_matrixes = []\n",
    "    \n",
    "    for i in range(0, 1000000000):\n",
    "        \n",
    "        matrix = slide_matrix_north(matrix)\n",
    "        matrix = rotate_matrix_CW(matrix)\n",
    "        matrix = slide_matrix_north(matrix)\n",
    "        matrix = rotate_matrix_CW(matrix)\n",
    "        matrix = slide_matrix_north(matrix)\n",
    "        matrix = rotate_matrix_CW(matrix)\n",
    "        matrix = slide_matrix_north(matrix)\n",
    "        matrix = rotate_matrix_CW(matrix)\n",
    "        \n",
    "        if not matrix in old_matrixes:\n",
    "            old_matrixes.append(copy.deepcopy(matrix))\n",
    "        else:\n",
    "            # Found period\n",
    "            break\n",
    "\n",
    "    # Some math to find the equivelent i of 1000000000 in old_matrix using the period\n",
    "    before_period = old_matrixes.index(matrix)\n",
    "    period = i - before_period\n",
    "    goal_i = 1000000000\n",
    "    i_1000000000 = (goal_i - before_period) % period + before_period - 1\n",
    "    matrix = old_matrixes[i_1000000000]\n",
    "\n",
    "# Calculate result\n",
    "for y in range(0, len(matrix)):\n",
    "    for x in range(0, len(matrix[0])):\n",
    "        if matrix[y][x] == 'O':\n",
    "            result += len(matrix) - y\n",
    "\n",
    "print(\"CH2: \" if PART2 else \"CH1: \",str(result))\n",
    "#  109638   102657"
   ]
  }
 ],
 "metadata": {
  "kernelspec": {
   "display_name": "Python 3 (ipykernel)",
   "language": "python",
   "name": "python3"
  },
  "language_info": {
   "codemirror_mode": {
    "name": "ipython",
    "version": 3
   },
   "file_extension": ".py",
   "mimetype": "text/x-python",
   "name": "python",
   "nbconvert_exporter": "python",
   "pygments_lexer": "ipython3",
   "version": "3.8.16"
  }
 },
 "nbformat": 4,
 "nbformat_minor": 5
}
