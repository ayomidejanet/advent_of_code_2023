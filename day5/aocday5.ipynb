{
 "cells": [
  {
   "cell_type": "code",
   "execution_count": 1,
   "id": "85fd2005-7dec-45a2-bcc5-639f7c88b66e",
   "metadata": {
    "tags": []
   },
   "outputs": [
    {
     "name": "stdout",
     "output_type": "stream",
     "text": [
      "  % Total    % Received % Xferd  Average Speed   Time    Time     Time  Current\n",
      "                                 Dload  Upload   Total   Spent    Left  Speed\n",
      "100  6303  100  6303    0     0  22906      0 --:--:-- --:--:-- --:--:-- 23172\n"
     ]
    }
   ],
   "source": [
    "!curl https://adventofcode.com/2023/day/5/input --cookie \"session=5xxx\" -o fertilizer.txt"
   ]
  },
  {
   "cell_type": "code",
   "execution_count": 2,
   "id": "22b51df8-75e7-4e02-bf93-fa3cccd02134",
   "metadata": {
    "tags": []
   },
   "outputs": [
    {
     "name": "stdout",
     "output_type": "stream",
     "text": [
      "806029445\n"
     ]
    }
   ],
   "source": [
    "with open(\"fertilizer.txt\", \"r\") as file:\n",
    "    data = file.readlines()\n",
    "\n",
    "seeds = [int(i) for i in data[0].strip().split(\": \")[1].split(\" \")]\n",
    "mappings = []\n",
    "for line in data[2:]:\n",
    "    line = line.strip()\n",
    "    if line.endswith(\":\"):\n",
    "        mappings.append([])\n",
    "    elif len(line) > 0:\n",
    "        mappings[-1].append([int(i) for i in line.split(\" \")])\n",
    "\n",
    "[m.sort(key=lambda x: x[1]) for m in mappings]\n",
    "\n",
    "res = 2**32\n",
    "for x in seeds:\n",
    "    for typemappings in mappings:\n",
    "        for mapping in typemappings:\n",
    "            if x >= mapping[1] and x < mapping[1] + mapping[2]:\n",
    "                x = x - mapping[1] + mapping[0]\n",
    "                break\n",
    "    res = min(x, res)\n",
    "print(res)"
   ]
  },
  {
   "cell_type": "code",
   "execution_count": 3,
   "id": "00243e51-1e04-4af8-bb81-c3b626639005",
   "metadata": {
    "tags": []
   },
   "outputs": [
    {
     "name": "stdout",
     "output_type": "stream",
     "text": [
      "59370572\n"
     ]
    }
   ],
   "source": [
    "with open(\"fertilizer.txt\", \"r\") as file:\n",
    "    data = file.readlines()\n",
    "\n",
    "seeds = [int(i) for i in data[0].strip().split(\": \")[1].split(\" \")]\n",
    "mappings = []\n",
    "for line in data[2:]:\n",
    "    line = line.strip()\n",
    "    if line.endswith(\":\"):\n",
    "        mappings.append([])\n",
    "    elif len(line) > 0:\n",
    "        mappings[-1].append([int(i) for i in line.split(\" \")])\n",
    "\n",
    "res = 2**64\n",
    "for s, o in zip(seeds[::2], seeds[1::2]):\n",
    "    ranges = [(s, s + o - 1)]\n",
    "    for typemappings in mappings:\n",
    "        newranges = []\n",
    "        for l, h in ranges:\n",
    "            found = False\n",
    "            for md, ms, mo in typemappings:\n",
    "                if l >= ms and h < ms + mo:\n",
    "                    newranges.append((l - ms + md, h - ms + md))\n",
    "                    found = True\n",
    "                elif l < ms and h >= ms and h < ms + mo:\n",
    "                    ranges.append((l, ms - 1))\n",
    "                    newranges.append((md, md + h - ms))\n",
    "                    found = True\n",
    "                elif l < ms + mo and h >= ms + mo and l >= ms:\n",
    "                    ranges.append((ms + mo, h))\n",
    "                    newranges.append((md + l - ms, md + mo - 1))\n",
    "                    found = True\n",
    "                elif l < ms and h >= ms + mo:\n",
    "                    ranges.append((l, ms - 1))\n",
    "                    newranges.append((md, md + mo - 1))\n",
    "                    ranges.append((ms + mo, h))\n",
    "                    found = True\n",
    "                if found == True:\n",
    "                    break\n",
    "            if found == False:\n",
    "                newranges.append((l, h))\n",
    "        ranges = newranges.copy()\n",
    "    res = min(res, min(ranges)[0])\n",
    "print(res)"
   ]
  }
 ],
 "metadata": {
  "kernelspec": {
   "display_name": "Python 3 (ipykernel)",
   "language": "python",
   "name": "python3"
  },
  "language_info": {
   "codemirror_mode": {
    "name": "ipython",
    "version": 3
   },
   "file_extension": ".py",
   "mimetype": "text/x-python",
   "name": "python",
   "nbconvert_exporter": "python",
   "pygments_lexer": "ipython3",
   "version": "3.8.16"
  }
 },
 "nbformat": 4,
 "nbformat_minor": 5
}
