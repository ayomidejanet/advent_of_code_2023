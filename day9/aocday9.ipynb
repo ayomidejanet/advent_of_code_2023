{
 "cells": [
  {
   "cell_type": "code",
   "execution_count": 1,
   "id": "a8ecb8fb-c017-4487-ac61-2434336423cd",
   "metadata": {
    "tags": []
   },
   "outputs": [
    {
     "name": "stdout",
     "output_type": "stream",
     "text": [
      "  % Total    % Received % Xferd  Average Speed   Time    Time     Time  Current\n",
      "                                 Dload  Upload   Total   Spent    Left  Speed\n",
      "100 21732  100 21732    0     0  55844      0 --:--:-- --:--:-- --:--:-- 56741\n"
     ]
    }
   ],
   "source": [
    "!curl https://adventofcode.com/2023/day/9/input --cookie \"session=53616c7465645f5f507d95ce089836d5163de30cc891243d9a1c0d0ba2960652b9ee386d6c28dbab2c0dcb4728b35d53a46dcb06031f8c14e96b3db775f7851a\" -o mirage.txt"
   ]
  },
  {
   "cell_type": "code",
   "execution_count": 9,
   "id": "dae1f84a-c457-40d4-8660-2668eb9a73ce",
   "metadata": {
    "tags": []
   },
   "outputs": [
    {
     "name": "stdout",
     "output_type": "stream",
     "text": [
      "1997306037\n"
     ]
    }
   ],
   "source": [
    "def allZero(l):\n",
    "    return all(item == 0 for item in l)\n",
    "\n",
    "total = 0\n",
    "\n",
    "with open(\"mirage.txt\", \"r\") as textIn:\n",
    "    for line in textIn:\n",
    "        t_val = line.split()\n",
    "        vals = [int(v) for v in t_val]\n",
    "        lastVals = []\n",
    "        diffVals = []\n",
    "        if vals[-1] >= vals[0]:\n",
    "            lastVals.append(vals[-1])\n",
    "            temp = np.diff(vals)\n",
    "            diffVals.append(temp[-1])\n",
    "            while not allZero(temp):\n",
    "                lastVals.append(temp[-1])\n",
    "                temp = np.diff(temp)\n",
    "                diffVals.append(temp[-1])\n",
    "            total += sum(lastVals)\n",
    "        else:\n",
    "            lastVals.append(vals[0])\n",
    "            temp = np.diff(vals)\n",
    "            diffVals.append(temp[0])\n",
    "            while not allZero(temp):\n",
    "                lastVals.append(temp[0])\n",
    "                temp = np.diff(temp)\n",
    "                diffVals.append(temp[0])\n",
    "            p = 0\n",
    "            for i in range(len(lastVals) - 1, -1, -1):\n",
    "                p = lastVals[i] - p\n",
    "            total += p\n",
    "\n",
    "print(total)"
   ]
  },
  {
   "cell_type": "code",
   "execution_count": 10,
   "id": "f70b0743-0503-4a60-ba05-07a76cc69807",
   "metadata": {
    "tags": []
   },
   "outputs": [
    {
     "name": "stdout",
     "output_type": "stream",
     "text": [
      "900\n"
     ]
    }
   ],
   "source": [
    "def allZero(l):\n",
    "    return all(item == 0 for item in l)\n",
    "\n",
    "total = 0\n",
    "\n",
    "with open(\"mirage.txt\", 'r') as textIn:\n",
    "    for line in textIn:\n",
    "        vals = list(map(int, line.split()))\n",
    "        lastVals = [vals[0]]\n",
    "        diffVals = [np.diff(vals)[0]]\n",
    "        \n",
    "        temp = np.diff(vals)\n",
    "        while not allZero(temp):\n",
    "            lastVals.append(temp[0])\n",
    "            temp = np.diff(temp)\n",
    "            diffVals.append(temp[0])\n",
    "        \n",
    "        p = 0\n",
    "        for i in range(len(lastVals)-1, -1, -1):\n",
    "            p = lastVals[i] - p\n",
    "        total += p\n",
    "\n",
    "print(total)"
   ]
  }
 ],
 "metadata": {
  "kernelspec": {
   "display_name": "Python 3 (ipykernel)",
   "language": "python",
   "name": "python3"
  },
  "language_info": {
   "codemirror_mode": {
    "name": "ipython",
    "version": 3
   },
   "file_extension": ".py",
   "mimetype": "text/x-python",
   "name": "python",
   "nbconvert_exporter": "python",
   "pygments_lexer": "ipython3",
   "version": "3.8.16"
  }
 },
 "nbformat": 4,
 "nbformat_minor": 5
}
