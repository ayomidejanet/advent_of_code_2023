{
 "cells": [
  {
   "cell_type": "code",
   "execution_count": null,
   "id": "0ea0238a-66b2-47de-bb2f-d83d4ad6300b",
   "metadata": {
    "tags": []
   },
   "outputs": [],
   "source": [
    "!curl https://adventofcode.com/2023/day/20/input --cookie \"session=53616c7465645f5f507d95ce089836d5163de30cc891243d9a1c0d0ba2960652b9ee386d6c28dbab2c0dcb4728b35d53a46dcb06031f8c14e96b3db775f7851a\" -o pulse.txt"
   ]
  },
  {
   "cell_type": "code",
   "execution_count": 6,
   "id": "2b47fed5-88fa-4b43-a0a6-6eca3be43ecf",
   "metadata": {
    "tags": []
   },
   "outputs": [
    {
     "name": "stdout",
     "output_type": "stream",
     "text": [
      "821985143 240853834793347\n"
     ]
    }
   ],
   "source": [
    "with open(\"pulse.txt\", \"r\") as file:\n",
    "    broadcasters, conjunctions, flipflops, relevant, queue, low, high, button, p2 = {}, {}, {}, {}, {\"rx\"}, 0, 0, 0, 1\n",
    "    for broadcaster, receivers in [x.split(\" -> \") for x in file.read().splitlines()]:\n",
    "        b, receivers = broadcaster[1:], receivers.split(\", \")\n",
    "        if broadcaster == \"broadcaster\":  broadcasters[broadcaster] = {x : (lambda y: y) for x in receivers}\n",
    "        elif broadcaster.startswith(\"&\"): broadcasters[b] = {x : (lambda y, b=b: set(conjunctions[b].values()) != {1}) for x in receivers}; conjunctions[b] = {}\n",
    "        elif broadcaster.startswith(\"%\"): broadcasters[b] = {x : (lambda y, b=b: flipflops[b])                         for x in receivers}; flipflops[b] = 0\n",
    "    for k, v in broadcasters.items():\n",
    "        for x in v:\n",
    "            if x in conjunctions: conjunctions[x][k] = 0\n",
    "    while queue:\n",
    "        current = queue.pop()\n",
    "        relevant[current] = nxt = [k for k, v in broadcasters.items() if current in v]\n",
    "        for x in nxt:\n",
    "            if x not in relevant: queue.add(x)\n",
    "    conj_patterns = {x for x in set(sum(relevant.values(), [])) if x in conjunctions}\n",
    "    while conj_patterns:\n",
    "        button += 1; low += 1\n",
    "        queue = [{\"broadcaster\" : (0, \"button\")}]\n",
    "        while queue:\n",
    "            receiver, (signal, origin) = queue.pop(0).popitem()\n",
    "            if receiver not in broadcasters: continue\n",
    "            if receiver in conjunctions: conjunctions[receiver][origin] = signal\n",
    "            if receiver in flipflops:\n",
    "                if signal: continue\n",
    "                else: flipflops[receiver] = not flipflops[receiver]\n",
    "            for remote, signal_func in broadcasters[receiver].items():\n",
    "                queue.append({remote : (sent := signal_func(signal), receiver)})\n",
    "                if sent == 1: high += 1\n",
    "                else:         low += 1\n",
    "            if receiver in conj_patterns and sent: conj_patterns.remove(receiver); p2 *= button\n",
    "        if button == 1000: p1 = low * high\n",
    "    print(p1, p2)"
   ]
  },
  {
   "cell_type": "code",
   "execution_count": null,
   "id": "fe5b6a34-0a7f-45d8-a7f7-e5c4e697d537",
   "metadata": {},
   "outputs": [],
   "source": []
  }
 ],
 "metadata": {
  "kernelspec": {
   "display_name": "Python 3 (ipykernel)",
   "language": "python",
   "name": "python3"
  },
  "language_info": {
   "codemirror_mode": {
    "name": "ipython",
    "version": 3
   },
   "file_extension": ".py",
   "mimetype": "text/x-python",
   "name": "python",
   "nbconvert_exporter": "python",
   "pygments_lexer": "ipython3",
   "version": "3.8.16"
  }
 },
 "nbformat": 4,
 "nbformat_minor": 5
}
