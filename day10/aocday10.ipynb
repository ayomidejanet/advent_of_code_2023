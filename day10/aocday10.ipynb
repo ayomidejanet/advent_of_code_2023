{
 "cells": [
  {
   "cell_type": "code",
   "execution_count": 6,
   "id": "d20cf6c6-7e07-4628-b8ad-9d83876fa6f5",
   "metadata": {
    "tags": []
   },
   "outputs": [
    {
     "name": "stdout",
     "output_type": "stream",
     "text": [
      "  % Total    % Received % Xferd  Average Speed   Time    Time     Time  Current\n",
      "                                 Dload  Upload   Total   Spent    Left  Speed\n",
      "100 19740  100 19740    0     0  57761      0 --:--:-- --:--:-- --:--:-- 58402\n"
     ]
    }
   ],
   "source": [
    "!curl https://adventofcode.com/2023/day/10/input --cookie \"session=53xxx\" -o pipe.txt"
   ]
  },
  {
   "cell_type": "code",
   "execution_count": 7,
   "id": "7ebc1439-40f5-46e9-9657-c57fcf83a1b1",
   "metadata": {
    "tags": []
   },
   "outputs": [
    {
     "name": "stdout",
     "output_type": "stream",
     "text": [
      "6800\n"
     ]
    }
   ],
   "source": [
    "with open(\"pipe.txt\", \"r\") as file:\n",
    "    grid = [list(line) for line in file.read().split(\"\\n\")]\n",
    "\n",
    "for row in range(len(grid)):\n",
    "    for column in range(len(grid[row])):\n",
    "        if grid[row][column] == 'S':\n",
    "            starting_row = row\n",
    "            starting_column = column\n",
    "            break\n",
    "    else:\n",
    "        continue\n",
    "    break\n",
    "\n",
    "check_pipes = [(starting_row, starting_column)]\n",
    "seen_pipes = {(starting_row, starting_column)}\n",
    "\n",
    "while len(check_pipes) > 0:\n",
    "    row, column = check_pipes.pop(0)\n",
    "    current_pipe = grid[row][column]\n",
    "\n",
    "    if row > 0 and current_pipe in \"S|LJ\" and grid[row - 1][column] in \"|7F\" and (row - 1, column) not in seen_pipes:\n",
    "        seen_pipes.add((row - 1, column))\n",
    "        check_pipes.append((row - 1, column))\n",
    "\n",
    "    if row < len(grid) - 1 and current_pipe in \"S|7F\" and grid[row + 1][column] in \"|LJ\" and (row + 1, column) not in seen_pipes:\n",
    "        seen_pipes.add((row + 1, column))\n",
    "        check_pipes.append((row + 1, column))\n",
    "\n",
    "    if column > 0 and current_pipe in \"S-7J\" and grid[row][column - 1] in \"-LF\" and (row, column - 1) not in seen_pipes:\n",
    "        seen_pipes.add((row, column - 1))\n",
    "        check_pipes.append((row, column - 1))\n",
    "\n",
    "    if column < len(grid[row]) - 1 and current_pipe in \"S-LF\" and grid[row][column + 1] in \"-J7\" and (row, column + 1) not in seen_pipes:\n",
    "        seen_pipes.add((row, column + 1))\n",
    "        check_pipes.append((row, column + 1))\n",
    "\n",
    "furthest_distance = len(seen_pipes) // 2\n",
    "print(furthest_distance)"
   ]
  },
  {
   "cell_type": "code",
   "execution_count": 8,
   "id": "df888c8d-fdbd-4b7a-acf6-9930233a6f86",
   "metadata": {
    "tags": []
   },
   "outputs": [
    {
     "name": "stdout",
     "output_type": "stream",
     "text": [
      "483\n"
     ]
    }
   ],
   "source": [
    "with open(\"pipe.txt\", \"r\") as file:\n",
    "    grid = [list(line) for line in file.read().split(\"\\n\")]\n",
    "\n",
    "for row in range(len(grid)):\n",
    "    for column in range(len(grid[row])):\n",
    "        if grid[row][column] == 'S':\n",
    "            starting_row = row\n",
    "            starting_column = column\n",
    "            break\n",
    "    else:\n",
    "        continue\n",
    "    break\n",
    "\n",
    "check_pipes = [(starting_row, starting_column)]\n",
    "seen_pipes = {(starting_row, starting_column)}\n",
    "potential_s = {'|', '-', 'L', 'J', '7', 'F'}\n",
    "\n",
    "while len(check_pipes) > 0:\n",
    "    row, column = check_pipes.pop(0)\n",
    "    current_pipe = grid[row][column]\n",
    "\n",
    "    if row > 0 and current_pipe in \"S|LJ\" and grid[row - 1][column] in \"|7F\" and (row - 1, column) not in seen_pipes:\n",
    "        seen_pipes.add((row - 1, column))\n",
    "        check_pipes.append((row - 1, column))\n",
    "        if current_pipe == 'S':\n",
    "            potential_s = potential_s.intersection({'|', 'L', 'J'})\n",
    "\n",
    "    if row < len(grid) - 1 and current_pipe in \"S|7F\" and grid[row + 1][column] in \"|LJ\" and (row + 1, column) not in seen_pipes:\n",
    "        seen_pipes.add((row + 1, column))\n",
    "        check_pipes.append((row + 1, column))\n",
    "        if current_pipe == 'S':\n",
    "            potential_s = potential_s.intersection({'|', '7', 'F'})\n",
    "\n",
    "    if column > 0 and current_pipe in \"S-7J\" and grid[row][column - 1] in \"-LF\" and (row, column - 1) not in seen_pipes:\n",
    "        seen_pipes.add((row, column - 1))\n",
    "        check_pipes.append((row, column - 1))\n",
    "        if current_pipe == 'S':\n",
    "            potential_s = potential_s.intersection({'-', '7', 'J'})\n",
    "\n",
    "    if column < len(grid[row]) - 1 and current_pipe in \"S-LF\" and grid[row][column + 1] in \"-J7\" and (row, column + 1) not in seen_pipes:\n",
    "        seen_pipes.add((row, column + 1))\n",
    "        check_pipes.append((row, column + 1))\n",
    "        if current_pipe == 'S':\n",
    "            potential_s = potential_s.intersection({'-', 'L', 'F'})\n",
    "\n",
    "s_pipe = potential_s.pop()\n",
    "grid[starting_row][starting_column] = s_pipe\n",
    "\n",
    "grid = [['.' if (row, column) not in seen_pipes else grid[row][column]\n",
    "         for column in range(len(grid[row]))] for row in range(len(grid))]\n",
    "\n",
    "\n",
    "interior = 0\n",
    "for row in grid:\n",
    "    for i, char in enumerate(row):\n",
    "        if char != \".\":\n",
    "            continue\n",
    "\n",
    "        intersect = 0\n",
    "        corner_pipes = []\n",
    "        for j in range(i + 1, len(row)):\n",
    "            if row[j] in \"|\":\n",
    "                intersect += 1\n",
    "            if row[j] in \"FL\":\n",
    "                corner_pipes.append(row[j])\n",
    "            if len(corner_pipes) != 0 and row[j] == \"J\" and corner_pipes[-1] == \"F\" or row[j] == \"7\" and corner_pipes[-1] == \"L\":\n",
    "                corner_pipes.pop(-1)\n",
    "                intersect += 1\n",
    "\n",
    "        if intersect % 2 == 1:\n",
    "            interior += 1\n",
    "\n",
    "print(interior)"
   ]
  }
 ],
 "metadata": {
  "kernelspec": {
   "display_name": "Python 3 (ipykernel)",
   "language": "python",
   "name": "python3"
  },
  "language_info": {
   "codemirror_mode": {
    "name": "ipython",
    "version": 3
   },
   "file_extension": ".py",
   "mimetype": "text/x-python",
   "name": "python",
   "nbconvert_exporter": "python",
   "pygments_lexer": "ipython3",
   "version": "3.8.16"
  }
 },
 "nbformat": 4,
 "nbformat_minor": 5
}
