{
 "cells": [
  {
   "cell_type": "code",
   "execution_count": 1,
   "id": "cdc044b9-5d07-43a0-8afd-b9aa9a0c0017",
   "metadata": {
    "tags": []
   },
   "outputs": [
    {
     "name": "stdout",
     "output_type": "stream",
     "text": [
      "  % Total    % Received % Xferd  Average Speed   Time    Time     Time  Current\n",
      "                                 Dload  Upload   Total   Spent    Left  Speed\n",
      "100 19740  100 19740    0     0  60587      0 --:--:-- --:--:-- --:--:-- 61495\n"
     ]
    }
   ],
   "source": [
    "!curl https://adventofcode.com/2023/day/11/input --cookie \"session=53616c7465645f5f507d95ce089836d5163de30cc891243d9a1c0d0ba2960652b9ee386d6c28dbab2c0dcb4728b35d53a46dcb06031f8c14e96b3db775f7851a\" -o cosmic.txt"
   ]
  },
  {
   "cell_type": "code",
   "execution_count": 5,
   "id": "1a1a9079-dab3-4fa8-847e-e0e5bab08255",
   "metadata": {
    "tags": []
   },
   "outputs": [
    {
     "name": "stdout",
     "output_type": "stream",
     "text": [
      "Task 1: Sum of distances = 10494813\n",
      "Task 2: Sum of distances = 92910853\n"
     ]
    }
   ],
   "source": [
    "file_name, factor = \"cosmic.txt\", 99\n",
    "# file_name, factor = \"./Day_11/input-advent-11.txt\", 999999\n",
    "\n",
    "# read input data\n",
    "universe = [[0 if x == '.' else 1 for x in line] for line in open(file_name).read().splitlines()]\n",
    "\n",
    "# expand by storing added rows and columns\n",
    "added_rows = [row_number for row_number,row in enumerate(universe) if sum(row) == 0]\n",
    "added_cols = [col_number for col_number,col in enumerate(zip(*universe)) if sum(col) == 0]\n",
    "\n",
    "# find galaxies\n",
    "galaxies = [(x,y) for y in range(len(universe)) for x in range(len(universe[0])) if universe[y][x] != 0]\n",
    "\n",
    "# calculate distances. Because the shortest path is a sequence of left/right/down/up instructions\n",
    "# it is the same to calculate the distance for x and for y.\n",
    "distance1 = 0\n",
    "distance2 = 0       \n",
    "for i in range(len(galaxies) - 1):\n",
    "    for j in range(i+1, len(galaxies)):\n",
    "        xs = sorted([galaxies[i][0], galaxies[j][0]])\n",
    "        ys = sorted([galaxies[i][1], galaxies[j][1]])\n",
    "        nx = len(list(filter(lambda r: r > xs[0] and r < xs[1], added_cols))) # number of expanded columns\n",
    "        ny = len(list(filter(lambda c: c > ys[0] and c < ys[1], added_rows))) # number of expanded rows\n",
    "        distance1 += xs[1] - xs[0] + ys[1] - ys[0] + nx + ny\n",
    "        distance2 += xs[1] - xs[0] + ys[1] - ys[0] + (nx + ny) * factor\n",
    "\n",
    "print('Task 1: Sum of distances = %d' % distance1) # 374 for sample, 9623138 for input\n",
    "print('Task 2: Sum of distances = %d' % distance2) # 1030/8410 for sample, 726820169514 for input"
   ]
  },
  {
   "cell_type": "code",
   "execution_count": 4,
   "id": "f00fbe53-b5e8-443c-8c1f-a987cc8abc8b",
   "metadata": {
    "tags": []
   },
   "outputs": [
    {
     "name": "stdout",
     "output_type": "stream",
     "text": [
      "10494813\n",
      "840988812853\n"
     ]
    }
   ],
   "source": [
    "with open(\"cosmic.txt\") as file:\n",
    "    input = file.read().splitlines()\n",
    "    inputtest = \"\"\"...#......\n",
    ".......#..\n",
    "#.........\n",
    "..........\n",
    "......#...\n",
    ".#........\n",
    ".........#\n",
    "..........\n",
    ".......#..\n",
    "#...#.....\"\"\".split('\\n')\n",
    "    \n",
    "    columns = {}\n",
    "    rows = {}\n",
    "    #expand vertically\n",
    "    for row in range(len(input)):\n",
    "        if input[row].count('#') == 0:\n",
    "            #0 above means expand\n",
    "            rows[row] = True\n",
    "        else:\n",
    "            rows[row] = False\n",
    "\n",
    "                #input.insert(row,'.'*len(input[row]))\n",
    "    #expand horizontally\n",
    "    for col in range(len(input[0])):\n",
    "        expand = True\n",
    "        for row in range(len(input)):\n",
    "            if input[row][col] == \"#\":\n",
    "                expand = False\n",
    "        if expand:\n",
    "            columns[col] = True\n",
    "        else:\n",
    "            columns[col] = False\n",
    "\n",
    "    answer = 0\n",
    "    answer2 = 0\n",
    "    part2_expansion = 1000000\n",
    "    for y in range(len(input)):\n",
    "        for x in range(len(input[0])):\n",
    "            if input[y][x] == \"#\":\n",
    "                for yb in range(len(input)):\n",
    "                    for xb in range(len(input[0])):\n",
    "                        if input[yb][xb] == \"#\":\n",
    "                            if yb>y:\n",
    "                                for row in range(y,yb):\n",
    "                                    if rows[row]:\n",
    "                                        answer+=2\n",
    "                                        answer2+=part2_expansion\n",
    "                                    else:\n",
    "                                        answer += 1\n",
    "                                        answer2+=1\n",
    "                            if yb<y:\n",
    "                                for row in range(yb,y):\n",
    "                                    if rows[row]:\n",
    "                                        answer+=2\n",
    "                                        answer2+=part2_expansion\n",
    "                                    else:\n",
    "                                        answer += 1\n",
    "                                        answer2+=1\n",
    "                            if xb>x:\n",
    "                                for col in range(x,xb):\n",
    "                                    if columns[col]:\n",
    "                                        answer+=2\n",
    "                                        answer2+=part2_expansion\n",
    "                                    else:\n",
    "                                        answer += 1\n",
    "                                        answer2+=1\n",
    "                            if xb<x:\n",
    "                                for col in range(xb,x):\n",
    "                                    if columns[col]:\n",
    "                                        answer+=2\n",
    "                                        answer2+=part2_expansion\n",
    "                                    else:\n",
    "                                        answer += 1\n",
    "                                        answer2+=1\n",
    "\n",
    "print(answer//2)\n",
    "print(answer2//2)"
   ]
  }
 ],
 "metadata": {
  "kernelspec": {
   "display_name": "Python 3 (ipykernel)",
   "language": "python",
   "name": "python3"
  },
  "language_info": {
   "codemirror_mode": {
    "name": "ipython",
    "version": 3
   },
   "file_extension": ".py",
   "mimetype": "text/x-python",
   "name": "python",
   "nbconvert_exporter": "python",
   "pygments_lexer": "ipython3",
   "version": "3.8.16"
  }
 },
 "nbformat": 4,
 "nbformat_minor": 5
}
