{
 "cells": [
  {
   "cell_type": "code",
   "execution_count": 1,
   "id": "620629aa-aeb0-4044-8ed6-ee035de87048",
   "metadata": {
    "tags": []
   },
   "outputs": [
    {
     "name": "stdout",
     "output_type": "stream",
     "text": [
      "  % Total    % Received % Xferd  Average Speed   Time    Time     Time  Current\n",
      "                                 Dload  Upload   Total   Spent    Left  Speed\n",
      "100 19411  100 19411    0     0      0      0 --:--:-- --:--:-- --:--:--     00  48604      0 --:--:-- --:--:-- --:--:-- 49141\n"
     ]
    }
   ],
   "source": [
    "!curl https://adventofcode.com/2023/day/22/input --cookie \"session=53616c7465645f5f507d95ce089836d5163de30cc891243d9a1c0d0ba2960652b9ee386d6c28dbab2c0dcb4728b35d53a46dcb06031f8c14e96b3db775f7851a\" -o sand.txt"
   ]
  },
  {
   "cell_type": "code",
   "execution_count": 2,
   "id": "ea9101cc-1bee-4bc9-b23b-ede94217663d",
   "metadata": {
    "tags": []
   },
   "outputs": [
    {
     "name": "stdout",
     "output_type": "stream",
     "text": [
      "Part1Answer = 424\n",
      "Part2Answer = 55483\n"
     ]
    }
   ],
   "source": [
    "BlockList = []\n",
    "with open(\"sand.txt\", \"r\") as data:\n",
    "    for t in data:\n",
    "        A, B = t.strip().split(\"~\")\n",
    "        AX, AY, AZ = list(map(int, A.split(\",\")))\n",
    "        BX, BY, BZ = list(map(int, B.split(\",\")))\n",
    "        NewTuple = ((AZ,AX,AY),(BZ,BX,BY))\n",
    "        BlockList.append(NewTuple)\n",
    "\n",
    "SolidSet = set()\n",
    "BlockList.sort()\n",
    "FinalRestPlaceDict = {}\n",
    "BlockSupportedByDict = {}\n",
    "NumBlocks = len(BlockList)\n",
    "\n",
    "for n, b in enumerate(BlockList):\n",
    "    (AZ,AX,AY),(BZ,BX,BY) = b\n",
    "    BlockSupportedByDict[n] = set()\n",
    "    CurrentBlockSet = set()\n",
    "    FinalRestPlaceDict[n] = set()\n",
    "    if AZ != BZ:\n",
    "        for z in range(AZ,BZ+1):\n",
    "            CurrentBlockSet.add((z,AX,AY))\n",
    "    elif AX != BX:\n",
    "        for x in range(AX,BX+1):\n",
    "            CurrentBlockSet.add((AZ,x,AY))\n",
    "    elif AY != BY:\n",
    "        for y in range(AY,BY+1):\n",
    "            CurrentBlockSet.add((AZ,AX,y))\n",
    "    else:\n",
    "        CurrentBlockSet.add((AZ,AX,AY))\n",
    "    Falling = True\n",
    "    while Falling:\n",
    "        NewBlockSet = set()\n",
    "        CheckSet = set()\n",
    "        for z, x, y in CurrentBlockSet:\n",
    "            NewZ = z-1\n",
    "            if NewZ == 0:\n",
    "                Falling = False\n",
    "                break\n",
    "            NewBlockSet.add((z-1,x,y))\n",
    "        if not(Falling):\n",
    "            break\n",
    "        CheckSet = NewBlockSet & SolidSet\n",
    "        if len(CheckSet) > 0:\n",
    "            Falling = False\n",
    "            break\n",
    "        CurrentBlockSet = NewBlockSet.copy()\n",
    "    for Block in CurrentBlockSet:\n",
    "        SolidSet.add(Block)\n",
    "        FinalRestPlaceDict[n].add(Block)\n",
    "    for t in range(n):\n",
    "        NewCheck = CheckSet & FinalRestPlaceDict[t]\n",
    "        if len(NewCheck) > 0:\n",
    "            BlockSupportedByDict[n].add(t)\n",
    "\n",
    "LoadBearingSet = set()\n",
    "for t in range(NumBlocks):\n",
    "    BlockSupportedSet = BlockSupportedByDict[t].copy()\n",
    "    if len(BlockSupportedSet) == 1:\n",
    "        LoadBearingSet.add(BlockSupportedSet.pop())\n",
    "\n",
    "Part1Answer = NumBlocks - len(LoadBearingSet)\n",
    "\n",
    "Part2Answer = 0\n",
    "for t in range(NumBlocks):\n",
    "    BlownSet = set()\n",
    "    BlownSet.add(t)\n",
    "    Blowing = True\n",
    "    while Blowing:\n",
    "        Blowing = False\n",
    "        for n in range(t+1, NumBlocks):\n",
    "            if n in BlownSet:\n",
    "                continue\n",
    "            BlockSupportedBySet = BlockSupportedByDict[n].copy()\n",
    "            if len(BlockSupportedBySet) == 0:\n",
    "                continue\n",
    "            CheckSet = BlockSupportedBySet - BlownSet\n",
    "            if len(CheckSet) == 0:\n",
    "                BlownSet.add(n)\n",
    "                Blowing = True\n",
    "    Part2Answer += len(BlownSet) - 1\n",
    "\n",
    "\n",
    "print(f\"{Part1Answer = }\")\n",
    "print(f\"{Part2Answer = }\")"
   ]
  },
  {
   "cell_type": "code",
   "execution_count": null,
   "id": "12c2366d-7529-4902-b3ff-294b76c0a289",
   "metadata": {},
   "outputs": [],
   "source": []
  }
 ],
 "metadata": {
  "kernelspec": {
   "display_name": "Python 3 (ipykernel)",
   "language": "python",
   "name": "python3"
  },
  "language_info": {
   "codemirror_mode": {
    "name": "ipython",
    "version": 3
   },
   "file_extension": ".py",
   "mimetype": "text/x-python",
   "name": "python",
   "nbconvert_exporter": "python",
   "pygments_lexer": "ipython3",
   "version": "3.8.16"
  }
 },
 "nbformat": 4,
 "nbformat_minor": 5
}
