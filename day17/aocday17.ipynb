{
 "cells": [
  {
   "cell_type": "code",
   "execution_count": 1,
   "id": "c532c353-d423-4583-af30-8f49464b3cce",
   "metadata": {
    "tags": []
   },
   "outputs": [
    {
     "name": "stdout",
     "output_type": "stream",
     "text": [
      "  % Total    % Received % Xferd  Average Speed   Time    Time     Time  Current\n",
      "                                 Dload  Upload   Total   Spent    Left  Speed\n",
      "100 20022  100 20022    0     0  52762      0 --:--:-- --:--:-- --:--:-- 53250\n"
     ]
    }
   ],
   "source": [
    "!curl https://adventofcode.com/2023/day/17/input --cookie \"session=53616c7465645f5f507d95ce089836d5163de30cc891243d9a1c0d0ba2960652b9ee386d6c28dbab2c0dcb4728b35d53a46dcb06031f8c14e96b3db775f7851a\" -o crucible.txt"
   ]
  },
  {
   "cell_type": "code",
   "execution_count": 2,
   "id": "0273c6ee-c63a-4092-ad72-800464d0fd6e",
   "metadata": {
    "tags": []
   },
   "outputs": [
    {
     "name": "stdout",
     "output_type": "stream",
     "text": [
      "Phase 01 result: 638\n",
      "Phase 02 result: 748\n"
     ]
    }
   ],
   "source": [
    "with open(\"crucible.txt\", 'r') as day17_file:\n",
    "    heatloss = [[int(ch) for ch in line] for line in day17_file.read().splitlines()]\n",
    "\n",
    "maximum_steps_in_one_direction = 10\n",
    "clockwise_change = {\"up\": \"right\", \"right\": \"down\", \"down\": \"left\", \"left\": \"up\"}\n",
    "counterclockwise_change = {\"up\": \"left\", \"left\": \"down\", \"down\": \"right\", \"right\": \"up\"}\n",
    "direction_movements = {\"right\": [0, 1], \"left\": [0, -1], \"up\": [-1, 0], \"down\": [1, 0]}\n",
    "\n",
    "\n",
    "def get_minimum(value):\n",
    "    return minimums[value[0]][value[1]][value[2]][value[3]]\n",
    "def update_minimum(value, new_min):\n",
    "    minimums[value[0]][value[1]][value[2]][value[3]] = new_min\n",
    "def inbounds(value):\n",
    "    return 0 <= value[0] < len(heatloss) and 0 <= value[1] < len(heatloss[0])\n",
    "def get_heatloss(value):\n",
    "    return heatloss[value[0]][value[1]]\n",
    "def get_moving(value):\n",
    "    value[0] += direction_movements[value[2]][0]\n",
    "    value[1] += direction_movements[value[2]][1]\n",
    "    value[3] += 1\n",
    "def turn_right(value):\n",
    "    value[2] = clockwise_change[value[2]]\n",
    "    value[3] = 0\n",
    "def turn_left(value):\n",
    "    value[2] = counterclockwise_change[value[2]]\n",
    "    value[3] = 0\n",
    "def attempt_movement(item, direction, phase):\n",
    "    new_item = item.copy()\n",
    "\n",
    "    if direction == \"straight\":\n",
    "        if phase == 1 and new_item[3] >= 3:\n",
    "            return  # phase 1, can't go straight for more than 3 blocks\n",
    "        if phase == 2 and new_item[3] >= 10:\n",
    "            return  # phase 2, can't go straight for more than 10 blocks\n",
    "    if direction == \"right\":\n",
    "        turn_right(new_item)\n",
    "    if direction == \"left\":\n",
    "        turn_left(new_item)\n",
    "\n",
    "    new_minimum = get_minimum(item)\n",
    "    while True:\n",
    "        get_moving(new_item)\n",
    "        if inbounds(new_item):\n",
    "            new_minimum += get_heatloss(new_item)\n",
    "        if phase == 1:\n",
    "            break  # in phase 1 we need to run this only once, since we can make turns at any point\n",
    "        if phase == 2 and new_item[3] >= 4:\n",
    "            break  # in phase 2 we should move for at least 4 blocks straight before accounting for a new minimum\n",
    "            # and it's important to not update minimums on the previous 3 blocks\n",
    "            # otherwise it's not different from being able to make a turn early, which leads to a wrong answer\n",
    "    if inbounds(new_item):\n",
    "        if get_minimum(new_item) > new_minimum:\n",
    "            update_minimum(new_item, new_minimum)\n",
    "            newly_updated.append(new_item)\n",
    "def get_minimum_by_coordinates(row, col):\n",
    "    rslt = 10 ** 9\n",
    "    for direction in direction_movements:\n",
    "        for xI in range(maximum_steps_in_one_direction + 1):\n",
    "            rslt = min(rslt, minimums[row][col][direction][xI])\n",
    "    return rslt\n",
    "\n",
    "\n",
    "minimums = [[{\"up\": {i: 10**9 for i in range(maximum_steps_in_one_direction + 1)},\n",
    "              \"down\": {i: 10**9 for i in range(maximum_steps_in_one_direction + 1)},\n",
    "              \"left\": {i: 10**9 for i in range(maximum_steps_in_one_direction + 1)},\n",
    "              \"right\": {i: 10**9 for i in range(maximum_steps_in_one_direction + 1)}} for i in range(len(heatloss[0]))] for j in range(len(heatloss))]\n",
    "# basically, minimums[row][column][direction, after taking which we ended up here][steps so far in this direction] = minimum heat loss found so far\n",
    "minimums[0][0][\"right\"][0] = 0\n",
    "recently_updated = [[0, 0, \"right\", 0]]  # row, column, direction, steps so far\n",
    "while len(recently_updated) > 0:\n",
    "    newly_updated = []\n",
    "    for r_item in recently_updated:\n",
    "        attempt_movement(r_item, \"straight\", phase=1)\n",
    "        attempt_movement(r_item, \"right\", phase=1)\n",
    "        attempt_movement(r_item, \"left\", phase=1)\n",
    "    recently_updated = [x[:] for x in newly_updated]\n",
    "print(\"Phase 01 result:\", get_minimum_by_coordinates(-1, -1))\n",
    "\n",
    "# copypasting, too lazy to do this more efficiently... the only change is phase=1 => phase=2\n",
    "minimums = [[{\"up\": {i: 10**9 for i in range(maximum_steps_in_one_direction + 1)},\n",
    "              \"down\": {i: 10**9 for i in range(maximum_steps_in_one_direction + 1)},\n",
    "              \"left\": {i: 10**9 for i in range(maximum_steps_in_one_direction + 1)},\n",
    "              \"right\": {i: 10**9 for i in range(maximum_steps_in_one_direction + 1)}} for i in range(len(heatloss[0]))] for j in range(len(heatloss))]\n",
    "# basically, minimums[row][column][direction, after taking which we ended up here][steps so far in this direction] = minimum heat loss found so far\n",
    "minimums[0][0][\"right\"][0] = 0\n",
    "recently_updated = [[0, 0, \"right\", 0]]  # row, column, direction, steps so far\n",
    "while len(recently_updated) > 0:\n",
    "    newly_updated = []\n",
    "    for r_item in recently_updated:\n",
    "        attempt_movement(r_item, \"straight\", phase=2)\n",
    "        attempt_movement(r_item, \"right\", phase=2)\n",
    "        attempt_movement(r_item, \"left\", phase=2)\n",
    "    recently_updated = [x[:] for x in newly_updated]\n",
    "print(\"Phase 02 result:\", get_minimum_by_coordinates(-1, -1))"
   ]
  }
 ],
 "metadata": {
  "kernelspec": {
   "display_name": "Python 3 (ipykernel)",
   "language": "python",
   "name": "python3"
  },
  "language_info": {
   "codemirror_mode": {
    "name": "ipython",
    "version": 3
   },
   "file_extension": ".py",
   "mimetype": "text/x-python",
   "name": "python",
   "nbconvert_exporter": "python",
   "pygments_lexer": "ipython3",
   "version": "3.8.16"
  }
 },
 "nbformat": 4,
 "nbformat_minor": 5
}
