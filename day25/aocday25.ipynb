{
 "cells": [
  {
   "cell_type": "code",
   "execution_count": 1,
   "id": "780ac2ae-fc82-4da7-8353-1e810482302e",
   "metadata": {
    "tags": []
   },
   "outputs": [
    {
     "name": "stdout",
     "output_type": "stream",
     "text": [
      "  % Total    % Received % Xferd  Average Speed   Time    Time     Time  Current\n",
      "                                 Dload  Upload   Total   Spent    Left  Speed\n",
      "100 19480  100 19480    0     0  68633      0 --:--:-- --:--:-- --:--:-- 70071\n"
     ]
    }
   ],
   "source": [
    "!curl https://adventofcode.com/2023/day/25/input --cookie \"session=5xx\" -o load.txt"
   ]
  },
  {
   "cell_type": "code",
   "execution_count": 4,
   "id": "4a2a8b34-3ac7-48fe-a448-6278b2101ab9",
   "metadata": {
    "tags": []
   },
   "outputs": [
    {
     "name": "stdout",
     "output_type": "stream",
     "text": [
      "555702\n"
     ]
    }
   ],
   "source": [
    "from networkx import Graph, minimum_cut\n",
    "from itertools import combinations\n",
    "\n",
    "lines =  open(\"load.txt\", \"r\").read().splitlines()\n",
    "\n",
    "g = Graph()\n",
    "for line in lines:\n",
    "    a = line[:line.index(\":\")]\n",
    "    for b in line[line.index(\":\")+1:].split():\n",
    "        g.add_edge(a, b, capacity=1)\n",
    "\n",
    "for a, b in combinations(g.nodes, 2):\n",
    "    cut, partition = minimum_cut(g, a, b)\n",
    "    if cut == 3:\n",
    "        print(len(partition[0])*len(partition[1]))\n",
    "        break"
   ]
  }
 ],
 "metadata": {
  "kernelspec": {
   "display_name": "Python 3 (ipykernel)",
   "language": "python",
   "name": "python3"
  },
  "language_info": {
   "codemirror_mode": {
    "name": "ipython",
    "version": 3
   },
   "file_extension": ".py",
   "mimetype": "text/x-python",
   "name": "python",
   "nbconvert_exporter": "python",
   "pygments_lexer": "ipython3",
   "version": "3.8.16"
  }
 },
 "nbformat": 4,
 "nbformat_minor": 5
}
