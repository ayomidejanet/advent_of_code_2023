{
 "cells": [
  {
   "cell_type": "code",
   "execution_count": 1,
   "id": "8cccccff-5e76-4735-ae5a-8a433797fbb5",
   "metadata": {
    "tags": []
   },
   "outputs": [
    {
     "name": "stdout",
     "output_type": "stream",
     "text": [
      "  % Total    % Received % Xferd  Average Speed   Time    Time     Time  Current\n",
      "                                 Dload  Upload   Total   Spent    Left  Speed\n",
      "100  8480  100  8480    0     0  33272      0 --:--:-- --:--:-- --:--:-- 33920\n"
     ]
    }
   ],
   "source": [
    "!curl https://adventofcode.com/2023/day/18/input --cookie \"session=53616c7465645f5f507d95ce089836d5163de30cc891243d9a1c0d0ba2960652b9ee386d6c28dbab2c0dcb4728b35d53a46dcb06031f8c14e96b3db775f7851a\" -o lagoon.txt"
   ]
  },
  {
   "cell_type": "code",
   "execution_count": 3,
   "id": "dbef7b4c-aab4-462d-82a0-561751843eff",
   "metadata": {
    "tags": []
   },
   "outputs": [
    {
     "name": "stdout",
     "output_type": "stream",
     "text": [
      "42317.0\n",
      "83605563360288.0\n"
     ]
    }
   ],
   "source": [
    "filepath = 'lagoon.txt'\n",
    "\n",
    "in_data = []\n",
    "with open(filepath) as fp:\n",
    "   line = fp.readline()\n",
    "   while line:\n",
    "       in_data.append(line.strip('\\n'))\n",
    "       line = fp.readline()\n",
    "       \n",
    "#Up down left right\n",
    "dirs = {'U':(-1,0), 'D':(1,0), 'L':(0,-1), 'R':(0,1)}\n",
    "\n",
    "def processInstr(instrs,start):\n",
    "  cur = start\n",
    "  corners = []\n",
    "  conc_corners = 0\n",
    "  conv_corners = 0\n",
    "  prevDir = in_data[-1].split()[0]\n",
    "  perimeter = 0\n",
    "  for inst in instrs:\n",
    "    corners.append(cur)\n",
    "    inst_split = inst.split()\n",
    "    curDir = inst_split[0]\n",
    "    steps = int(inst_split[1])\n",
    "    cur = (cur[0]+dirs[curDir][0]*steps,cur[1]+dirs[curDir][1]*steps)\n",
    "    if (prevDir == 'U' and curDir == 'R') or (prevDir == 'L' and curDir == 'U') or (prevDir == 'D' and curDir == 'L') or (prevDir == 'R' and curDir == 'D'):\n",
    "      conc_corners+=1\n",
    "    elif (prevDir == 'U' and curDir == 'L') or (prevDir == 'L' and curDir == 'D') or (prevDir == 'D' and curDir == 'R') or (prevDir == 'R' and curDir == 'U'):\n",
    "      conv_corners+=1\n",
    "    prevDir = curDir\n",
    "    perimeter+=steps\n",
    "  return corners, conc_corners, conv_corners, perimeter\n",
    "\n",
    "def Area(corners):\n",
    "    n = len(corners) # of corners\n",
    "    area = 0.0\n",
    "    for i in range(n):\n",
    "        j = (i + 1) % n\n",
    "        area += corners[i][0] * corners[j][1]\n",
    "        area -= corners[j][0] * corners[i][1]\n",
    "    area = abs(area) / 2.0\n",
    "    return area\n",
    "\n",
    "#Part 1\n",
    "cur = (0,0)\n",
    "corners, conc_corners, conv_corners, perimeter = processInstr(in_data,cur)\n",
    "total_a = Area(corners)\n",
    "print(perimeter + (total_a - conc_corners/4 - conv_corners*3/4 - (perimeter-len(corners))/2))\n",
    "\n",
    "#Part 2\n",
    "dir_inst = ['R','D','L','U']\n",
    "instrs = []\n",
    "for i,ins in enumerate(in_data):\n",
    "  hexinst = ins.split()[2].strip('(').strip(')')\n",
    "  steps = str(int(hexinst[1:6],16))\n",
    "  instrs.append(dir_inst[int(hexinst[-1])]+' '+steps)\n",
    "\n",
    "corners, conc_corners, conv_corners, perimeter = processInstr(instrs,cur)\n",
    "total_a = Area(corners)\n",
    "print(perimeter + (total_a - conc_corners/4 - conv_corners*3/4 - (perimeter-len(corners))/2))"
   ]
  },
  {
   "cell_type": "code",
   "execution_count": 4,
   "id": "4018834b-539d-4a74-b30c-584710272ce5",
   "metadata": {
    "tags": []
   },
   "outputs": [
    {
     "ename": "ValueError",
     "evalue": "too many values to unpack (expected 2)",
     "output_type": "error",
     "traceback": [
      "\u001b[0;31m---------------------------------------------------------------------------\u001b[0m",
      "\u001b[0;31mValueError\u001b[0m                                Traceback (most recent call last)",
      "Cell \u001b[0;32mIn[4], line 61\u001b[0m\n\u001b[1;32m     59\u001b[0m in_data \u001b[38;5;241m=\u001b[39m read_file(filepath)\n\u001b[1;32m     60\u001b[0m cur \u001b[38;5;241m=\u001b[39m (\u001b[38;5;241m0\u001b[39m,\u001b[38;5;241m0\u001b[39m)\n\u001b[0;32m---> 61\u001b[0m corners, conc_corners, conv_corners, perimeter \u001b[38;5;241m=\u001b[39m \u001b[43mprocess_instructions\u001b[49m\u001b[43m(\u001b[49m\u001b[43min_data\u001b[49m\u001b[43m,\u001b[49m\u001b[43m \u001b[49m\u001b[43mcur\u001b[49m\u001b[43m)\u001b[49m\n\u001b[1;32m     62\u001b[0m result_part1 \u001b[38;5;241m=\u001b[39m part_one(corners, conc_corners, conv_corners, perimeter)\n\u001b[1;32m     63\u001b[0m \u001b[38;5;28mprint\u001b[39m(result_part1)\n",
      "Cell \u001b[0;32mIn[4], line 18\u001b[0m, in \u001b[0;36mprocess_instructions\u001b[0;34m(instrs, start)\u001b[0m\n\u001b[1;32m     16\u001b[0m \u001b[38;5;28;01mfor\u001b[39;00m inst \u001b[38;5;129;01min\u001b[39;00m instrs:\n\u001b[1;32m     17\u001b[0m     corners\u001b[38;5;241m.\u001b[39mappend(cur)\n\u001b[0;32m---> 18\u001b[0m     curDir, steps \u001b[38;5;241m=\u001b[39m inst\u001b[38;5;241m.\u001b[39msplit()\n\u001b[1;32m     19\u001b[0m     steps \u001b[38;5;241m=\u001b[39m \u001b[38;5;28mint\u001b[39m(steps)\n\u001b[1;32m     20\u001b[0m     cur \u001b[38;5;241m=\u001b[39m (cur[\u001b[38;5;241m0\u001b[39m] \u001b[38;5;241m+\u001b[39m dirs[curDir][\u001b[38;5;241m0\u001b[39m]\u001b[38;5;241m*\u001b[39msteps, cur[\u001b[38;5;241m1\u001b[39m] \u001b[38;5;241m+\u001b[39m dirs[curDir][\u001b[38;5;241m1\u001b[39m]\u001b[38;5;241m*\u001b[39msteps)\n",
      "\u001b[0;31mValueError\u001b[0m: too many values to unpack (expected 2)"
     ]
    }
   ],
   "source": [
    "filepath = 'lagoon.txt'\n",
    "dirs = {'U':(-1,0), 'D':(1,0), 'L':(0,-1), 'R':(0,1)}\n",
    "\n",
    "def read_file(filename):\n",
    "    with open(filename) as fp:\n",
    "        return [line.strip('\\n') for line in fp.readlines()]\n",
    "\n",
    "def process_instructions(instrs, start):\n",
    "    cur = start\n",
    "    corners = []\n",
    "    conc_corners = 0\n",
    "    conv_corners = 0\n",
    "    prevDir = instrs[-1].split()[0]\n",
    "    perimeter = 0\n",
    "\n",
    "    for inst in instrs:\n",
    "        corners.append(cur)\n",
    "        curDir, steps = inst.split()\n",
    "        steps = int(steps)\n",
    "        cur = (cur[0] + dirs[curDir][0]*steps, cur[1] + dirs[curDir][1]*steps)\n",
    "        \n",
    "        if (prevDir, curDir) in [('U', 'R'), ('L', 'U'), ('D', 'L'), ('R', 'D')]:\n",
    "            conc_corners += 1\n",
    "        elif (prevDir, curDir) in [('U', 'L'), ('L', 'D'), ('D', 'R'), ('R', 'U')]:\n",
    "            conv_corners += 1\n",
    "\n",
    "        prevDir = curDir\n",
    "        perimeter += steps\n",
    "\n",
    "    return corners, conc_corners, conv_corners, perimeter\n",
    "\n",
    "def calculate_area(corners):\n",
    "    n = len(corners)\n",
    "    area = 0.0\n",
    "\n",
    "    for i in range(n):\n",
    "        j = (i + 1) % n\n",
    "        area += corners[i][0] * corners[j][1]\n",
    "        area -= corners[j][0] * corners[i][1]\n",
    "\n",
    "    return abs(area) / 2.0\n",
    "\n",
    "def part_one(corners, conc_corners, conv_corners, perimeter):\n",
    "    total_a = calculate_area(corners)\n",
    "    return perimeter + (total_a - conc_corners/4 - conv_corners*3/4 - (perimeter-len(corners))/2)\n",
    "\n",
    "def convert_instructions(in_data):\n",
    "    dir_inst = ['R','D','L','U']\n",
    "    instrs = []\n",
    "\n",
    "    for ins in in_data:\n",
    "        hexinst = ins.split()[2].strip('(').strip(')')\n",
    "        steps = str(int(hexinst[1:6],16))\n",
    "        instrs.append(dir_inst[int(hexinst[-1])]+' '+steps)\n",
    "\n",
    "    return instrs\n",
    "\n",
    "# Part 1\n",
    "in_data = read_file(filepath)\n",
    "cur = (0,0)\n",
    "corners, conc_corners, conv_corners, perimeter = process_instructions(in_data, cur)\n",
    "result_part1 = part_one(corners, conc_corners, conv_corners, perimeter)\n",
    "print(result_part1)\n",
    "\n",
    "# Part 2\n",
    "instrs = convert_instructions(in_data)\n",
    "corners, conc_corners, conv_corners, perimeter = process_instructions(instrs, cur)\n",
    "result_part2 = part_one(corners, conc_corners, conv_corners, perimeter)\n",
    "print(result_part2)"
   ]
  },
  {
   "cell_type": "code",
   "execution_count": null,
   "id": "d5d99694-d2c6-424d-8ff8-ebc43d4c49e5",
   "metadata": {},
   "outputs": [],
   "source": []
  }
 ],
 "metadata": {
  "kernelspec": {
   "display_name": "Python 3 (ipykernel)",
   "language": "python",
   "name": "python3"
  },
  "language_info": {
   "codemirror_mode": {
    "name": "ipython",
    "version": 3
   },
   "file_extension": ".py",
   "mimetype": "text/x-python",
   "name": "python",
   "nbconvert_exporter": "python",
   "pygments_lexer": "ipython3",
   "version": "3.8.16"
  }
 },
 "nbformat": 4,
 "nbformat_minor": 5
}
