{
 "cells": [
  {
   "cell_type": "code",
   "execution_count": null,
   "id": "5067086e-e07e-452d-b8d7-b2aa1b70ecf8",
   "metadata": {
    "tags": []
   },
   "outputs": [],
   "source": [
    "!curl https://adventofcode.com/2023/day/12/input --cookie \"session=53616c7465645f5f507d95ce089836d5163de30cc891243d9a1c0d0ba2960652b9ee386d6c28dbab2c0dcb4728b35d53a46dcb06031f8c14e96b3db775f7851a\" -o springs.txt"
   ]
  },
  {
   "cell_type": "code",
   "execution_count": 1,
   "id": "c0a0ee18-5d87-4297-b6fc-b2c4f62a2455",
   "metadata": {
    "tags": []
   },
   "outputs": [
    {
     "name": "stdout",
     "output_type": "stream",
     "text": [
      "(7599, 15454556629917)\n"
     ]
    }
   ],
   "source": [
    "def match(s, p, i, j):\n",
    "    map = {}\n",
    "    def check(i, j, s, p):\n",
    "        if (i, j, p) in map:\n",
    "            return map[(i, j, p)]\n",
    "        if i == len(s) and j == len(p):\n",
    "            return 1\n",
    "        elif j == len(p):\n",
    "            return 0\n",
    "        elif i == len(s):\n",
    "            if p[j] == '*':\n",
    "                return check(i, j + 1, s, p)\n",
    "            return 0\n",
    "        else:\n",
    "            res = 0\n",
    "            if (s[i] == '#' or s[i] == '?') and p[j] == '#':\n",
    "                res += check(i + 1, j + 1, s, p)\n",
    "            elif (s[i] == '?' or s[i] == '.') and p[j] == '*':\n",
    "                res += check(i + 1, j, s, p)\n",
    "                res += check(i, j + 1, s, p)\n",
    "            elif s[i] == '#' and p[j] == '*':\n",
    "                res += check(i, j + 1, s, p)\n",
    "            elif (s[i] == '?' or s[i] == '.') and p[j] == '+':\n",
    "                res += check(i + 1, j, s, p[:j] + '*' + p[j + 1:])\n",
    "        map[(i, j, p)] = res\n",
    "        return res\n",
    "    \n",
    "    return check(i, j, s, p)    \n",
    "\n",
    "def p():\n",
    "    with open('springs.txt', 'r') as f:\n",
    "        lines = f.readlines()\n",
    "    ans_a = 0\n",
    "    ans_b = 0\n",
    "    for line in lines:\n",
    "        line = line.split()\n",
    "        s_a = line[0]\n",
    "        s_b = '?'.join([s_a] * 5)\n",
    "        p_a = '*' + '+'.join(['#' * int(n) for n in line[1].split(',')]) + '*'\n",
    "        p_b = '*' + '+'.join(['#' * int(n) for n in line[1].split(',')] * 5) + '*'\n",
    "        ans_a += match(s_a, p_a, 0, 0)\n",
    "        ans_b += match(s_b, p_b, 0, 0)\n",
    "    return ans_a, ans_b\n",
    "\n",
    "if __name__ == '__main__':\n",
    "    print(p())"
   ]
  },
  {
   "cell_type": "code",
   "execution_count": 2,
   "id": "aca4af70-032b-4525-ae51-5f375652393b",
   "metadata": {
    "tags": []
   },
   "outputs": [
    {
     "ename": "ImportError",
     "evalue": "cannot import name 'cache' from 'functools' (/Users/ayomidealabi/miniforge3/envs/data-science/lib/python3.8/functools.py)",
     "output_type": "error",
     "traceback": [
      "\u001b[0;31m---------------------------------------------------------------------------\u001b[0m",
      "\u001b[0;31mImportError\u001b[0m                               Traceback (most recent call last)",
      "Cell \u001b[0;32mIn[2], line 1\u001b[0m\n\u001b[0;32m----> 1\u001b[0m \u001b[38;5;28;01mfrom\u001b[39;00m \u001b[38;5;21;01mfunctools\u001b[39;00m \u001b[38;5;28;01mimport\u001b[39;00m cache\n\u001b[1;32m      3\u001b[0m \u001b[38;5;28;01mwith\u001b[39;00m \u001b[38;5;28mopen\u001b[39m(\u001b[38;5;124m\"\u001b[39m\u001b[38;5;124msprings.txt\u001b[39m\u001b[38;5;124m\"\u001b[39m) \u001b[38;5;28;01mas\u001b[39;00m f:\n\u001b[1;32m      4\u001b[0m     lines \u001b[38;5;241m=\u001b[39m f\u001b[38;5;241m.\u001b[39mread()\u001b[38;5;241m.\u001b[39msplitlines()\n",
      "\u001b[0;31mImportError\u001b[0m: cannot import name 'cache' from 'functools' (/Users/ayomidealabi/miniforge3/envs/data-science/lib/python3.8/functools.py)"
     ]
    }
   ],
   "source": [
    "from functools import cache\n",
    "\n",
    "with open(\"springs.txt\") as f:\n",
    "    lines = f.read().splitlines()\n",
    "\n",
    "@cache\n",
    "def arrangements(springs, group):  \n",
    "    if not group:\n",
    "        return int(all(s != '#' for s in springs))\n",
    "    if len(springs) < sum(group):\n",
    "        return 0\n",
    "    if springs[0] == '.': \n",
    "        return arrangements(springs[1:], group)\n",
    "\n",
    "    here = (\n",
    "        arrangements(springs[(group[0] + 1):], group[1:])\n",
    "        if all(s != '.' for s in springs[:group[0]])\n",
    "        and (len(springs) > group[0] and springs[group[0]] != '#' or len(springs) <= group[0])\n",
    "        else 0\n",
    "    )\n",
    "    next = arrangements(springs[1:], group) if springs[0] == '?' else 0\n",
    "    \n",
    "    return here + next\n",
    "  \n",
    "part1, part2 = 0, 0\n",
    "for l in lines:  \n",
    "    springs, group = l.split()[0], tuple(map(int, l.split()[1].split(',')))\n",
    "    part1 += arrangements(springs, group)\n",
    "    part2 += arrangements(((springs + '?') * 5)[:-1], group * 5)\n",
    "    \n",
    "print(part1, part2)"
   ]
  },
  {
   "cell_type": "code",
   "execution_count": null,
   "id": "4bb20d16-2321-4903-a9dd-d4f2747dd81a",
   "metadata": {},
   "outputs": [],
   "source": []
  }
 ],
 "metadata": {
  "kernelspec": {
   "display_name": "Python 3 (ipykernel)",
   "language": "python",
   "name": "python3"
  },
  "language_info": {
   "codemirror_mode": {
    "name": "ipython",
    "version": 3
   },
   "file_extension": ".py",
   "mimetype": "text/x-python",
   "name": "python",
   "nbconvert_exporter": "python",
   "pygments_lexer": "ipython3",
   "version": "3.8.16"
  }
 },
 "nbformat": 4,
 "nbformat_minor": 5
}
