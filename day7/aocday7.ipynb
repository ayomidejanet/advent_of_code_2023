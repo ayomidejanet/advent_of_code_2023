{
 "cells": [
  {
   "cell_type": "code",
   "execution_count": 2,
   "id": "bcdc951e-ffd5-4198-a759-40ef68c2994d",
   "metadata": {
    "tags": []
   },
   "outputs": [
    {
     "name": "stdout",
     "output_type": "stream",
     "text": [
      "  % Total    % Received % Xferd  Average Speed   Time    Time     Time  Current\n",
      "                                 Dload  Upload   Total   Spent    Left  Speed\n",
      "100  9893  100  9893    0     0  45527      0 --:--:-- --:--:-- --:--:-- 46228\n"
     ]
    }
   ],
   "source": [
    "!curl https://adventofcode.com/2023/day/7/input --cookie \"session=53616c7465645f5f507d95ce089836d5163de30cc891243d9a1c0d0ba2960652b9ee386d6c28dbab2c0dcb4728b35d53a46dcb06031f8c14e96b3db775f7851a\" -o camel.txt"
   ]
  },
  {
   "cell_type": "code",
   "execution_count": 7,
   "id": "f5a6fa07-e8ac-48ca-93df-e3166c316c38",
   "metadata": {
    "tags": []
   },
   "outputs": [
    {
     "name": "stdout",
     "output_type": "stream",
     "text": [
      "Part 1: 250602641\n",
      "Part 2: 251037509\n"
     ]
    }
   ],
   "source": [
    "from collections import Counter\n",
    "from itertools import chain\n",
    "\n",
    "with open(\"camel.txt\", \"r\") as file:\n",
    "    data = file.read().strip()\n",
    "\n",
    "HANDS = [(a, int(b)) for x in data.split(\"\\n\") for a, b in [x.split(\" \")]]\n",
    "HAND_TYPES = [\n",
    "    lambda x, j: len(x) < 2,\n",
    "    lambda x, j: max(x.values()) + j == 4,\n",
    "    lambda x, j: (len(x) == 2 and 2 in x.values() and 3 in x.values())\n",
    "    or (Counter(x.values())[2] == 2 and j == 1),\n",
    "    lambda x, j: (3 - j) in x.values(),\n",
    "    lambda x, j: (2 in Counter(x.values()) and Counter(x.values())[2] == 2)\n",
    "    or (j > 0 and 2 in Counter(x.values())),\n",
    "    lambda x, j: (2 - j) in x.values(),\n",
    "]\n",
    "\n",
    "\n",
    "def solve(part_two=False):\n",
    "    sorted_hands = [[] for _ in range(7)]\n",
    "    order = {\n",
    "        v: i for i, v in enumerate(\"J23456789TQKA\" if part_two else \"23456789TJQKA\")\n",
    "    }\n",
    "\n",
    "    for hand, bid in HANDS:\n",
    "        cur = Counter(hand)\n",
    "        if part_two:\n",
    "            jokers = cur[\"J\"]\n",
    "            del cur[\"J\"]\n",
    "        else:\n",
    "            jokers = 0\n",
    "        i = next(\n",
    "            (i for i, hand_type in enumerate(HAND_TYPES) if hand_type(cur, jokers)), 6\n",
    "        )\n",
    "        sorted_hands[i].append((hand, bid))\n",
    "\n",
    "    for i, v in enumerate(sorted_hands):\n",
    "        sorted_hands[i] = sorted(v, key=lambda x: [order[c] for c in x[0]])\n",
    "\n",
    "    return sum(\n",
    "        i * bid\n",
    "        for i, (hand, bid) in enumerate(\n",
    "            chain.from_iterable(sorted_hands[::-1]), start=1\n",
    "        )\n",
    "    )\n",
    "\n",
    "\n",
    "print(f\"Part 1: {solve()}\")\n",
    "print(f\"Part 2: {solve(True)}\")"
   ]
  }
 ],
 "metadata": {
  "kernelspec": {
   "display_name": "Python 3 (ipykernel)",
   "language": "python",
   "name": "python3"
  },
  "language_info": {
   "codemirror_mode": {
    "name": "ipython",
    "version": 3
   },
   "file_extension": ".py",
   "mimetype": "text/x-python",
   "name": "python",
   "nbconvert_exporter": "python",
   "pygments_lexer": "ipython3",
   "version": "3.8.16"
  }
 },
 "nbformat": 4,
 "nbformat_minor": 5
}
