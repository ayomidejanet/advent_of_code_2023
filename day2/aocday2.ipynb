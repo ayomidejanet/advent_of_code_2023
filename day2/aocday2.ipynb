{
 "cells": [
  {
   "cell_type": "code",
   "execution_count": 2,
   "id": "2399b31f-87da-4fc5-bf8f-98617ed6956b",
   "metadata": {
    "tags": []
   },
   "outputs": [
    {
     "name": "stdout",
     "output_type": "stream",
     "text": [
      "  % Total    % Received % Xferd  Average Speed   Time    Time     Time  Current\n",
      "                                 Dload  Upload   Total   Spent    Left  Speed\n",
      "100 10481  100 10481    0     0  31234      0 --:--:-- --:--:-- --:--:-- 31664\n"
     ]
    }
   ],
   "source": [
    "!curl https://adventofcode.com/2023/day/2/input --cookie \"session=53616c7465645f5f507d95ce089836d5163de30cc891243d9a1c0d0ba2960652b9ee386d6c28dbab2c0dcb4728b35d53a46dcb06031f8c14e96b3db775f7851a\" -o snow.txt"
   ]
  },
  {
   "cell_type": "code",
   "execution_count": 9,
   "id": "c3b690ec-8e79-4741-b45b-e6bcc8a4097e",
   "metadata": {
    "tags": []
   },
   "outputs": [
    {
     "name": "stdout",
     "output_type": "stream",
     "text": [
      "2268\n",
      "63542\n"
     ]
    }
   ],
   "source": [
    "import re\n",
    "from functools import reduce \n",
    "import operator\n",
    "\n",
    "with open('snow.txt') as file:\n",
    "    lines = file.read().strip().split('\\n')\n",
    "\n",
    "######################## part 1 ###################\n",
    "\n",
    "game_id_sum = 0 \n",
    "possible_cubes = {'red':12, 'blue':14, 'green':13}\n",
    "for line in lines:\n",
    "    new_line = re.split('; |, |: | |\\n',line)\n",
    "    for i in range(3, len(new_line), 2):\n",
    "        if int(new_line[i-1]) > possible_cubes[new_line[i]]:\n",
    "            game_id_sum += int(new_line[1])\n",
    "            break\n",
    "print(int(len(lines)*(len(lines)+1)/2 -  game_id_sum))\n",
    "\n",
    "######################## part 2 ######################\n",
    "\n",
    "\n",
    "total_power = 0\n",
    "for line in lines:\n",
    "    number_cubes = {'red':0, 'blue':0, 'green':0}\n",
    "    new_line = re.split('; |, |: | |\\n',line)\n",
    "    for i in range(3, len(new_line), 2):\n",
    "        number_cubes[new_line[i]] = max(number_cubes[new_line[i]], int(new_line[i-1]))\n",
    "    total_power += reduce(operator.mul, number_cubes.values(), 1)\n",
    "\n",
    "print(total_power)"
   ]
  }
 ],
 "metadata": {
  "kernelspec": {
   "display_name": "Python 3 (ipykernel)",
   "language": "python",
   "name": "python3"
  },
  "language_info": {
   "codemirror_mode": {
    "name": "ipython",
    "version": 3
   },
   "file_extension": ".py",
   "mimetype": "text/x-python",
   "name": "python",
   "nbconvert_exporter": "python",
   "pygments_lexer": "ipython3",
   "version": "3.8.16"
  }
 },
 "nbformat": 4,
 "nbformat_minor": 5
}
