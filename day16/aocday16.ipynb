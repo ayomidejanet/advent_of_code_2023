{
 "cells": [
  {
   "cell_type": "code",
   "execution_count": null,
   "id": "4bca8649-7e3e-4b14-b793-f34497eef53d",
   "metadata": {
    "tags": []
   },
   "outputs": [],
   "source": [
    "!curl https://adventofcode.com/2023/day/16/input --cookie \"session=53616c7465645f5f507d95ce089836d5163de30cc891243d9a1c0d0ba2960652b9ee386d6c28dbab2c0dcb4728b35d53a46dcb06031f8c14e96b3db775f7851a\" -o lava.txt"
   ]
  },
  {
   "cell_type": "code",
   "execution_count": 12,
   "id": "a7375d23-d7e7-4c39-b9ed-135745a178d4",
   "metadata": {
    "tags": []
   },
   "outputs": [
    {
     "name": "stdout",
     "output_type": "stream",
     "text": [
      "7788\n",
      "7987\n"
     ]
    }
   ],
   "source": [
    "RIGHT = 0\n",
    "LEFT = 1\n",
    "DOWN = 2\n",
    "UP = 3\n",
    "\n",
    "deltas = [(1, 0), (-1, 0), (0, 1), (0, -1)]\n",
    "\n",
    "splitters = {\"|\": {LEFT: [UP, DOWN], RIGHT: [UP, DOWN], UP: [UP], DOWN: [DOWN]},\n",
    "             \"-\": {UP: [LEFT, RIGHT], DOWN: [LEFT, RIGHT], LEFT: [LEFT], RIGHT: [RIGHT]}}\n",
    "mirrors = {\"\\\\\": {RIGHT: DOWN, LEFT: UP, DOWN: RIGHT, UP: LEFT},\n",
    "           \"/\": {RIGHT: UP, LEFT: DOWN, DOWN: LEFT, UP: RIGHT}}\n",
    "\n",
    "\n",
    "def parse(lines):\n",
    "    grid = {}\n",
    "    for y, line in enumerate(lines):\n",
    "        for x, c in enumerate(line):\n",
    "            grid[(x, y)] = c\n",
    "    width = len(lines[0])\n",
    "    height = len(lines)\n",
    "    return grid, height, width\n",
    "\n",
    "\n",
    "def count_max_visited(starting_positions, grid):\n",
    "    max_visited = 0\n",
    "    for starting_position in starting_positions:\n",
    "        beams = [starting_position]\n",
    "        visited_bitmasks = {k: 0 for k in grid.keys()}\n",
    "        while beams:\n",
    "            new_beams = []\n",
    "            for (pos, delta) in beams:\n",
    "                pos = (pos[0] + delta[0], pos[1] + delta[1])\n",
    "                if pos in grid:\n",
    "                    direction = deltas.index(delta)\n",
    "                    visited_bitmask = visited_bitmasks[pos]\n",
    "                    if visited_bitmask & (1 << direction) == 0:\n",
    "                        visited_bitmasks[pos] = visited_bitmask | (1 << direction)\n",
    "                        cell = grid[pos]\n",
    "                        if cell == \".\":\n",
    "                            new_beams.append((pos, delta))\n",
    "                        elif cell in mirrors:\n",
    "                            delta = deltas[mirrors[cell][direction]]\n",
    "                            new_beams.append((pos, delta))\n",
    "                        elif cell in splitters:\n",
    "                            new_dirs = splitters[cell][direction]\n",
    "                            for new_dir in new_dirs:\n",
    "                                new_beams.append((pos, deltas[new_dir]))\n",
    "            beams = new_beams\n",
    "        max_visited = max(max_visited, sum((1 for v in visited_bitmasks.values() if v > 0)))\n",
    "\n",
    "    return max_visited\n",
    "\n",
    "\n",
    "def part1(lines):\n",
    "    grid, height, width = parse(lines)\n",
    "\n",
    "    starting_positions = [((-1, 0), (1, 0))]\n",
    "    return count_max_visited(starting_positions, grid)\n",
    "\n",
    "\n",
    "def part2(lines):\n",
    "    grid, height, width = parse(lines)\n",
    "\n",
    "    starting_positions = []\n",
    "    for x in range(width):\n",
    "        starting_positions.append(((x, -1), deltas[DOWN]))\n",
    "        starting_positions.append(((x, height), deltas[UP]))\n",
    "    for y in range(height):\n",
    "        starting_positions.append(((-1, y), deltas[RIGHT]))\n",
    "        starting_positions.append(((width, y), deltas[LEFT]))\n",
    "\n",
    "    return count_max_visited(starting_positions, grid)\n",
    "\n",
    "\n",
    "if __name__ == \"__main__\":\n",
    "    lines = open(\"lava.txt\", \"r\").read().strip().splitlines()\n",
    "    print(part1(lines))\n",
    "    print(part2(lines))"
   ]
  }
 ],
 "metadata": {
  "kernelspec": {
   "display_name": "Python 3 (ipykernel)",
   "language": "python",
   "name": "python3"
  },
  "language_info": {
   "codemirror_mode": {
    "name": "ipython",
    "version": 3
   },
   "file_extension": ".py",
   "mimetype": "text/x-python",
   "name": "python",
   "nbconvert_exporter": "python",
   "pygments_lexer": "ipython3",
   "version": "3.8.16"
  }
 },
 "nbformat": 4,
 "nbformat_minor": 5
}
