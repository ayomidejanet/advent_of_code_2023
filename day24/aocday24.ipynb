{
 "cells": [
  {
   "cell_type": "code",
   "execution_count": 1,
   "id": "6bbb7ad1-8757-45ac-ac86-402132ffa55c",
   "metadata": {
    "tags": []
   },
   "outputs": [
    {
     "name": "stdout",
     "output_type": "stream",
     "text": [
      "  % Total    % Received % Xferd  Average Speed   Time    Time     Time  Current\n",
      "                                 Dload  Upload   Total   Spent    Left  Speed\n",
      "100 19647  100 19647    0     0  65094      0 --:--:-- --:--:-- --:--:-- 66151\n"
     ]
    }
   ],
   "source": [
    "!curl https://adventofcode.com/2023/day/24/input --cookie \"session=5xx\" -o odds.txt"
   ]
  },
  {
   "cell_type": "code",
   "execution_count": 18,
   "id": "29d9577f-1cc3-401f-b100-20e233846910",
   "metadata": {
    "tags": []
   },
   "outputs": [
    {
     "name": "stdout",
     "output_type": "stream",
     "text": [
      "880547248556435.0\n"
     ]
    }
   ],
   "source": [
    "data = [[int(i) for i in l.replace('@',',').split(',')]\n",
    "                for l in open('odds.txt')]\n",
    "\n",
    "\n",
    "def solve(a, b):\n",
    "    m = [a+[b] for a,b in zip(a, b)]\n",
    "    m = [[a-b  for a,b in zip(a, m[4])] for a in m[:4]]\n",
    "\n",
    "    for i in range(len(m)):\n",
    "        m[i] = [m[i][k]/m[i][i] for k in range(len(m[i]))]\n",
    "\n",
    "        for j in range(i+1, len(m)):\n",
    "            m[j] = [m[j][k]-m[i][k]*m[j][i] for k in range(len(m[i]))]\n",
    "\n",
    "    for i in reversed(range(len(m))):\n",
    "        for j in range(i):\n",
    "            m[j] = [m[j][k]-m[i][k]*m[j][i] for k in range(len(m[i]))]\n",
    "\n",
    "    return [r[-1] for r in m]\n",
    "\n",
    "\n",
    "def cols(a, b, c, d):\n",
    "    A = [[r[c], -r[d], r[a], r[b]] for r in data]\n",
    "    B = [r[b] * r[c] - r[a] * r[d] for r in data]\n",
    "    return A, B\n",
    "\n",
    "x, y, *_ = solve(*cols(0, 1, 3, 4))\n",
    "z,    *_ = solve(*cols(1, 2, 4, 5))\n",
    "\n",
    "print(x+y+z)"
   ]
  }
 ],
 "metadata": {
  "kernelspec": {
   "display_name": "Python 3 (ipykernel)",
   "language": "python",
   "name": "python3"
  },
  "language_info": {
   "codemirror_mode": {
    "name": "ipython",
    "version": 3
   },
   "file_extension": ".py",
   "mimetype": "text/x-python",
   "name": "python",
   "nbconvert_exporter": "python",
   "pygments_lexer": "ipython3",
   "version": "3.8.16"
  }
 },
 "nbformat": 4,
 "nbformat_minor": 5
}
