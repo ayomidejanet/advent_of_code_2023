{
 "cells": [
  {
   "cell_type": "code",
   "execution_count": 6,
   "id": "85359942-4048-4c61-ba09-51bd8c289442",
   "metadata": {
    "tags": []
   },
   "outputs": [
    {
     "name": "stdout",
     "output_type": "stream",
     "text": [
      "  % Total    % Received % Xferd  Average Speed   Time    Time     Time  Current\n",
      "                                 Dload  Upload   Total   Spent    Left  Speed\n",
      "100 20787  100 20787    0     0  65366      0 --:--:-- --:--:-- --:--:-- 65990\n"
     ]
    }
   ],
   "source": [
    "!curl https://adventofcode.com/2023/day/19/input --cookie \"session=5xx\" -o aplenty.txt"
   ]
  },
  {
   "cell_type": "code",
   "execution_count": 9,
   "id": "66274c02-1580-4c0a-902b-87fb910d7cb0",
   "metadata": {
    "tags": []
   },
   "outputs": [
    {
     "name": "stdout",
     "output_type": "stream",
     "text": [
      "[367602, 125317461667458]\n"
     ]
    }
   ],
   "source": [
    "from math import prod\n",
    "\n",
    "def recurse(label, x, m, a, s):\n",
    "    if label == \"R\": return 0\n",
    "    if label == \"A\":\n",
    "        for X, M, A, S in set(parts):\n",
    "            if not (part := (X, M, A, S)) in p1 and all([q[0] <= Q <= q[1] for q, Q in ((x, X), (m, M), (a, A), (s, S))]):\n",
    "                p1.add(part); parts.remove(part)\n",
    "        return prod(len(range(i, j + 1)) for i, j in [x, m, a, s])\n",
    "\n",
    "    result = 0\n",
    "    for new_label, (X, M, A, S) in workflows[label]:\n",
    "        new = [[max([q[0], Q[0]]), min([q[1], Q[1]])] for q, Q in [(x, X), (m, M), (a, A), (s, S)]]\n",
    "        if not any(q[1] < q[0] for q in new):\n",
    "            result += recurse(new_label, *new)\n",
    "    return result\n",
    "\n",
    "\n",
    "with open(\"aplenty.txt\", \"r\") as file:\n",
    "    data, parts = [x.splitlines() for x in file.read().split(\"\\n\\n\")]\n",
    "    parts = set(tuple(map(int, part.replace(\"{\", \"\").replace(\"}\", \"\").replace(\",\", \"=\").split(\"=\")[1 : 8 : 2])) for part in parts)\n",
    "    workflows, p1 = {}, set()\n",
    "    for row in data:\n",
    "        label, *checks = row.replace(\"}\", \"\").replace(\"{\", \",\").split(\",\")\n",
    "        workflows[label] = []\n",
    "        vars = {**{x : 1 for x in \"xmas\"}, **{x : 4000 for x in \"XMAS\"}}\n",
    "        for check in checks:\n",
    "            if \":\" not in check:  other_label, current = check, [[vars[x], vars[x.upper()]] for x in \"xmas\"]\n",
    "            else:\n",
    "                assertion, other_label = check.split(\":\")\n",
    "                (var, value) = assertion.split(sign := [\"<\", \">\"][\">\" in assertion])\n",
    "                current = []\n",
    "                for x in \"xmas\":\n",
    "                    if x == var:\n",
    "                        if   sign == \">\": current += [[int(value) + 1, vars[x.upper()]]]; vars[x.upper()] = int(value)\n",
    "                        elif sign == \"<\": current += [[vars[x], int(value) - 1]];         vars[x] = int(value)\n",
    "                    else:                 current += [[vars[x], vars[x.upper()]]]                \n",
    "            workflows[label].append((other_label, current))\n",
    "    print([recurse(\"in\", *[[1,4000]] * 4), sum(sum(x) for x in p1)][::-1])"
   ]
  }
 ],
 "metadata": {
  "kernelspec": {
   "display_name": "Python 3 (ipykernel)",
   "language": "python",
   "name": "python3"
  },
  "language_info": {
   "codemirror_mode": {
    "name": "ipython",
    "version": 3
   },
   "file_extension": ".py",
   "mimetype": "text/x-python",
   "name": "python",
   "nbconvert_exporter": "python",
   "pygments_lexer": "ipython3",
   "version": "3.8.16"
  }
 },
 "nbformat": 4,
 "nbformat_minor": 5
}
